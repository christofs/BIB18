{
 "cells": [
  {
   "attachments": {},
   "cell_type": "markdown",
   "metadata": {},
   "source": [
    "# Authors"
   ]
  },
  {
   "attachments": {},
   "cell_type": "markdown",
   "metadata": {},
   "source": [
    "## Most frequently occurring person names \n",
    "\n",
    "There are 94321 mentions of person names in the dataset, in total, for 31026 different person names. \n",
    "\n",
    "The person names occurring most frequently in the dataset, irrespective of context or function, are the following, with the number of occurrence of their names: \n",
    "\n",
    "- Porret, Michel: 439\n",
    "- Berchtold, Jacques: 388\n",
    "- Delon, Michel: 383\n",
    "- Voltaire: 346\n",
    "- Seth, Catriona: 306\n",
    "- Herman, Jan: 280\n",
    "- Pelckmans, Paul: 267\n",
    "- Moureau, François: 255\n",
    "- Sermain, Jean-Paul: 240\n",
    "- Bourdin, Philippe: 235\n",
    "\n"
   ]
  },
  {
   "cell_type": "code",
   "execution_count": 1,
   "metadata": {},
   "outputs": [],
   "source": [
    "# === Imports === \n",
    "\n",
    "import re \n",
    "import seaborn as sns\n",
    "from matplotlib import pyplot as plt\n",
    "from os.path import join\n",
    "from os.path import realpath, dirname\n",
    "import os\n",
    "from lxml import etree\n",
    "from io import StringIO, BytesIO\n",
    "from collections import Counter\n",
    "import pandas as pd\n",
    "\n",
    "\n",
    "# === Files and parameters === \n",
    "\n",
    "wdir = join(\"/\", \"media\", \"christof\", \"Data\", \"Github\", \"christofs\", \"BIB18\")\n",
    "bibdatafile = join(wdir, \"data\", \"BIB18_Zotero-RDF.rdf\") \n",
    "#bibdatafile = join(wdir, \"data\", \"BIB18_Zotero-RDF_TEST.rdf\") \n",
    "\n",
    "\n",
    "namespaces = {\n",
    "    \"foaf\" : \"http://xmlns.com/foaf/0.1/\",\n",
    "    \"bib\" : \"http://purl.org/net/biblio#\",\n",
    "    \"dc\" : \"http://purl.org/dc/elements/1.1/\",\n",
    "    \"z\" : \"http://www.zotero.org/namespaces/export#\",\n",
    "    \"rdf\" : \"http://www.w3.org/1999/02/22-rdf-syntax-ns#\"\n",
    "    }\n",
    "\n",
    "\n",
    "def read_json(bibdatafile): \n",
    "    bibdata = etree.parse(bibdatafile)\n",
    "    return bibdata\n",
    "\n",
    "bibdata = read_json(bibdatafile)"
   ]
  },
  {
   "cell_type": "code",
   "execution_count": 6,
   "metadata": {},
   "outputs": [
    {
     "name": "stdout",
     "output_type": "stream",
     "text": [
      "There are 94321 instances of the Element 'person' in the dataset.\n"
     ]
    }
   ],
   "source": [
    "def get_personnames(bibdata): \n",
    "\n",
    "    # Find all the instances of persons\n",
    "    personnames = []\n",
    "    xpath = \"//foaf:Person\"\n",
    "    persons = bibdata.xpath(xpath, namespaces=namespaces)\n",
    "    print(\"There are \" + str(len(persons)) + \" instances of the Element 'person' in the dataset.\")\n",
    "\n",
    "    # Get the names (full name or first name, last name) from each person\n",
    "    for item in persons: \n",
    "        if len(item) == 1: \n",
    "            personname = item[0].text\n",
    "            personnames.append(personname)\n",
    "        elif len(item) == 2: \n",
    "            personname = item[0].text + \", \" + item[1].text \n",
    "            personnames.append(personname)    \n",
    "    return personnames\n",
    "\n",
    "global personnames\n",
    "personnames  = get_personnames(bibdata)\n"
   ]
  },
  {
   "attachments": {},
   "cell_type": "markdown",
   "metadata": {},
   "source": [
    "## Visualization of the most frequent person names \n",
    "\n",
    "These persons could be authors or editors of publications. "
   ]
  },
  {
   "cell_type": "code",
   "execution_count": 13,
   "metadata": {},
   "outputs": [
    {
     "ename": "ValueError",
     "evalue": "Could not interpret input 'publisher'",
     "output_type": "error",
     "traceback": [
      "\u001b[0;31m---------------------------------------------------------------------------\u001b[0m",
      "\u001b[0;31mValueError\u001b[0m                                Traceback (most recent call last)",
      "\u001b[1;32m/media/christof/Data/Github/christofs/BIB18/authors.ipynb Cell 6\u001b[0m in \u001b[0;36m<cell line: 41>\u001b[0;34m()\u001b[0m\n\u001b[1;32m     <a href='vscode-notebook-cell:/media/christof/Data/Github/christofs/BIB18/authors.ipynb#W5sZmlsZQ%3D%3D?line=33'>34</a>\u001b[0m     plt\u001b[39m.\u001b[39msavefig(\n\u001b[1;32m     <a href='vscode-notebook-cell:/media/christof/Data/Github/christofs/BIB18/authors.ipynb#W5sZmlsZQ%3D%3D?line=34'>35</a>\u001b[0m         join(wdir, \u001b[39m\"\u001b[39m\u001b[39mfigures\u001b[39m\u001b[39m\"\u001b[39m, \u001b[39m\"\u001b[39m\u001b[39mpersonnames_counts.png\u001b[39m\u001b[39m\"\u001b[39m),\n\u001b[1;32m     <a href='vscode-notebook-cell:/media/christof/Data/Github/christofs/BIB18/authors.ipynb#W5sZmlsZQ%3D%3D?line=35'>36</a>\u001b[0m         dpi\u001b[39m=\u001b[39m\u001b[39m300\u001b[39m\n\u001b[1;32m     <a href='vscode-notebook-cell:/media/christof/Data/Github/christofs/BIB18/authors.ipynb#W5sZmlsZQ%3D%3D?line=36'>37</a>\u001b[0m         )\n\u001b[1;32m     <a href='vscode-notebook-cell:/media/christof/Data/Github/christofs/BIB18/authors.ipynb#W5sZmlsZQ%3D%3D?line=39'>40</a>\u001b[0m personnames_counts \u001b[39m=\u001b[39m most_frequent_persons(personnames)\n\u001b[0;32m---> <a href='vscode-notebook-cell:/media/christof/Data/Github/christofs/BIB18/authors.ipynb#W5sZmlsZQ%3D%3D?line=40'>41</a>\u001b[0m visualize_personnames_counts(personnames_counts)\n",
      "\u001b[1;32m/media/christof/Data/Github/christofs/BIB18/authors.ipynb Cell 6\u001b[0m in \u001b[0;36mvisualize_personnames_counts\u001b[0;34m(personnames_counts)\u001b[0m\n\u001b[1;32m     <a href='vscode-notebook-cell:/media/christof/Data/Github/christofs/BIB18/authors.ipynb#W5sZmlsZQ%3D%3D?line=22'>23</a>\u001b[0m plt\u001b[39m.\u001b[39mfigure(figsize\u001b[39m=\u001b[39m(\u001b[39m12\u001b[39m,\u001b[39m8\u001b[39m))\n\u001b[1;32m     <a href='vscode-notebook-cell:/media/christof/Data/Github/christofs/BIB18/authors.ipynb#W5sZmlsZQ%3D%3D?line=23'>24</a>\u001b[0m pal \u001b[39m=\u001b[39m sns\u001b[39m.\u001b[39mcolor_palette(\u001b[39m\"\u001b[39m\u001b[39mcolorblind\u001b[39m\u001b[39m\"\u001b[39m, \u001b[39mlen\u001b[39m(personnames_counts))\n\u001b[0;32m---> <a href='vscode-notebook-cell:/media/christof/Data/Github/christofs/BIB18/authors.ipynb#W5sZmlsZQ%3D%3D?line=24'>25</a>\u001b[0m fig \u001b[39m=\u001b[39m sns\u001b[39m.\u001b[39;49mbarplot(\n\u001b[1;32m     <a href='vscode-notebook-cell:/media/christof/Data/Github/christofs/BIB18/authors.ipynb#W5sZmlsZQ%3D%3D?line=25'>26</a>\u001b[0m     data\u001b[39m=\u001b[39;49mpersonnames_counts, \n\u001b[1;32m     <a href='vscode-notebook-cell:/media/christof/Data/Github/christofs/BIB18/authors.ipynb#W5sZmlsZQ%3D%3D?line=26'>27</a>\u001b[0m     y\u001b[39m=\u001b[39;49m\u001b[39m\"\u001b[39;49m\u001b[39mpublisher\u001b[39;49m\u001b[39m\"\u001b[39;49m, \n\u001b[1;32m     <a href='vscode-notebook-cell:/media/christof/Data/Github/christofs/BIB18/authors.ipynb#W5sZmlsZQ%3D%3D?line=27'>28</a>\u001b[0m     x\u001b[39m=\u001b[39;49m\u001b[39m\"\u001b[39;49m\u001b[39mcount\u001b[39;49m\u001b[39m\"\u001b[39;49m, \n\u001b[1;32m     <a href='vscode-notebook-cell:/media/christof/Data/Github/christofs/BIB18/authors.ipynb#W5sZmlsZQ%3D%3D?line=28'>29</a>\u001b[0m     orient\u001b[39m=\u001b[39;49m\u001b[39m'\u001b[39;49m\u001b[39mh\u001b[39;49m\u001b[39m'\u001b[39;49m \n\u001b[1;32m     <a href='vscode-notebook-cell:/media/christof/Data/Github/christofs/BIB18/authors.ipynb#W5sZmlsZQ%3D%3D?line=29'>30</a>\u001b[0m     )\n\u001b[1;32m     <a href='vscode-notebook-cell:/media/christof/Data/Github/christofs/BIB18/authors.ipynb#W5sZmlsZQ%3D%3D?line=30'>31</a>\u001b[0m \u001b[39mfor\u001b[39;00m i \u001b[39min\u001b[39;00m fig\u001b[39m.\u001b[39mcontainers:\n\u001b[1;32m     <a href='vscode-notebook-cell:/media/christof/Data/Github/christofs/BIB18/authors.ipynb#W5sZmlsZQ%3D%3D?line=31'>32</a>\u001b[0m     fig\u001b[39m.\u001b[39mbar_label(i,)\n",
      "File \u001b[0;32m~/.local/lib/python3.10/site-packages/seaborn/_decorators.py:46\u001b[0m, in \u001b[0;36m_deprecate_positional_args.<locals>.inner_f\u001b[0;34m(*args, **kwargs)\u001b[0m\n\u001b[1;32m     36\u001b[0m     warnings\u001b[39m.\u001b[39mwarn(\n\u001b[1;32m     37\u001b[0m         \u001b[39m\"\u001b[39m\u001b[39mPass the following variable\u001b[39m\u001b[39m{}\u001b[39;00m\u001b[39m as \u001b[39m\u001b[39m{}\u001b[39;00m\u001b[39mkeyword arg\u001b[39m\u001b[39m{}\u001b[39;00m\u001b[39m: \u001b[39m\u001b[39m{}\u001b[39;00m\u001b[39m. \u001b[39m\u001b[39m\"\u001b[39m\n\u001b[1;32m     38\u001b[0m         \u001b[39m\"\u001b[39m\u001b[39mFrom version 0.12, the only valid positional argument \u001b[39m\u001b[39m\"\u001b[39m\n\u001b[0;32m   (...)\u001b[0m\n\u001b[1;32m     43\u001b[0m         \u001b[39mFutureWarning\u001b[39;00m\n\u001b[1;32m     44\u001b[0m     )\n\u001b[1;32m     45\u001b[0m kwargs\u001b[39m.\u001b[39mupdate({k: arg \u001b[39mfor\u001b[39;00m k, arg \u001b[39min\u001b[39;00m \u001b[39mzip\u001b[39m(sig\u001b[39m.\u001b[39mparameters, args)})\n\u001b[0;32m---> 46\u001b[0m \u001b[39mreturn\u001b[39;00m f(\u001b[39m*\u001b[39;49m\u001b[39m*\u001b[39;49mkwargs)\n",
      "File \u001b[0;32m~/.local/lib/python3.10/site-packages/seaborn/categorical.py:3182\u001b[0m, in \u001b[0;36mbarplot\u001b[0;34m(x, y, hue, data, order, hue_order, estimator, ci, n_boot, units, seed, orient, color, palette, saturation, errcolor, errwidth, capsize, dodge, ax, **kwargs)\u001b[0m\n\u001b[1;32m   3169\u001b[0m \u001b[39m@_deprecate_positional_args\u001b[39m\n\u001b[1;32m   3170\u001b[0m \u001b[39mdef\u001b[39;00m \u001b[39mbarplot\u001b[39m(\n\u001b[1;32m   3171\u001b[0m     \u001b[39m*\u001b[39m,\n\u001b[0;32m   (...)\u001b[0m\n\u001b[1;32m   3179\u001b[0m     \u001b[39m*\u001b[39m\u001b[39m*\u001b[39mkwargs,\n\u001b[1;32m   3180\u001b[0m ):\n\u001b[0;32m-> 3182\u001b[0m     plotter \u001b[39m=\u001b[39m _BarPlotter(x, y, hue, data, order, hue_order,\n\u001b[1;32m   3183\u001b[0m                           estimator, ci, n_boot, units, seed,\n\u001b[1;32m   3184\u001b[0m                           orient, color, palette, saturation,\n\u001b[1;32m   3185\u001b[0m                           errcolor, errwidth, capsize, dodge)\n\u001b[1;32m   3187\u001b[0m     \u001b[39mif\u001b[39;00m ax \u001b[39mis\u001b[39;00m \u001b[39mNone\u001b[39;00m:\n\u001b[1;32m   3188\u001b[0m         ax \u001b[39m=\u001b[39m plt\u001b[39m.\u001b[39mgca()\n",
      "File \u001b[0;32m~/.local/lib/python3.10/site-packages/seaborn/categorical.py:1584\u001b[0m, in \u001b[0;36m_BarPlotter.__init__\u001b[0;34m(self, x, y, hue, data, order, hue_order, estimator, ci, n_boot, units, seed, orient, color, palette, saturation, errcolor, errwidth, capsize, dodge)\u001b[0m\n\u001b[1;32m   1579\u001b[0m \u001b[39mdef\u001b[39;00m \u001b[39m__init__\u001b[39m(\u001b[39mself\u001b[39m, x, y, hue, data, order, hue_order,\n\u001b[1;32m   1580\u001b[0m              estimator, ci, n_boot, units, seed,\n\u001b[1;32m   1581\u001b[0m              orient, color, palette, saturation, errcolor,\n\u001b[1;32m   1582\u001b[0m              errwidth, capsize, dodge):\n\u001b[1;32m   1583\u001b[0m     \u001b[39m\"\"\"Initialize the plotter.\"\"\"\u001b[39;00m\n\u001b[0;32m-> 1584\u001b[0m     \u001b[39mself\u001b[39;49m\u001b[39m.\u001b[39;49mestablish_variables(x, y, hue, data, orient,\n\u001b[1;32m   1585\u001b[0m                              order, hue_order, units)\n\u001b[1;32m   1586\u001b[0m     \u001b[39mself\u001b[39m\u001b[39m.\u001b[39mestablish_colors(color, palette, saturation)\n\u001b[1;32m   1587\u001b[0m     \u001b[39mself\u001b[39m\u001b[39m.\u001b[39mestimate_statistic(estimator, ci, n_boot, seed)\n",
      "File \u001b[0;32m~/.local/lib/python3.10/site-packages/seaborn/categorical.py:153\u001b[0m, in \u001b[0;36m_CategoricalPlotter.establish_variables\u001b[0;34m(self, x, y, hue, data, orient, order, hue_order, units)\u001b[0m\n\u001b[1;32m    151\u001b[0m     \u001b[39mif\u001b[39;00m \u001b[39misinstance\u001b[39m(var, \u001b[39mstr\u001b[39m):\n\u001b[1;32m    152\u001b[0m         err \u001b[39m=\u001b[39m \u001b[39m\"\u001b[39m\u001b[39mCould not interpret input \u001b[39m\u001b[39m'\u001b[39m\u001b[39m{}\u001b[39;00m\u001b[39m'\u001b[39m\u001b[39m\"\u001b[39m\u001b[39m.\u001b[39mformat(var)\n\u001b[0;32m--> 153\u001b[0m         \u001b[39mraise\u001b[39;00m \u001b[39mValueError\u001b[39;00m(err)\n\u001b[1;32m    155\u001b[0m \u001b[39m# Figure out the plotting orientation\u001b[39;00m\n\u001b[1;32m    156\u001b[0m orient \u001b[39m=\u001b[39m infer_orient(\n\u001b[1;32m    157\u001b[0m     x, y, orient, require_numeric\u001b[39m=\u001b[39m\u001b[39mself\u001b[39m\u001b[39m.\u001b[39mrequire_numeric\n\u001b[1;32m    158\u001b[0m )\n",
      "\u001b[0;31mValueError\u001b[0m: Could not interpret input 'publisher'"
     ]
    },
    {
     "data": {
      "text/plain": [
       "<Figure size 864x576 with 0 Axes>"
      ]
     },
     "metadata": {},
     "output_type": "display_data"
    }
   ],
   "source": [
    "def most_frequent_persons(personnames):\n",
    "    # Count the occurrences, find the 10 most frequently mentioned publishers\n",
    "    personnames_counts = Counter(personnames)\n",
    "    personnames_counts = dict(\n",
    "        sorted(personnames_counts.items(), \n",
    "        key = lambda item: item[1], reverse=True)[:20]\n",
    "        )\n",
    "    \n",
    "    columns = [\"count\"]\n",
    "    personnames_counts = pd.DataFrame.from_dict(\n",
    "        personnames_counts, \n",
    "        orient=\"index\", \n",
    "        columns=[\"count\"]).reset_index().rename({\"index\" : \"person\"}, \n",
    "        axis=1\n",
    "        )\n",
    "    \n",
    "    #print(personnames_counts)\n",
    "    return personnames_counts\n",
    "\n",
    "\n",
    "def visualize_personnames_counts(personnames_counts): \n",
    "    #print(publishernames_counts)\n",
    "    plt.figure(figsize=(12,8))\n",
    "    pal = sns.color_palette(\"colorblind\", len(personnames_counts))\n",
    "    fig = sns.barplot(\n",
    "        data=personnames_counts, \n",
    "        y=\"person\", \n",
    "        x=\"count\", \n",
    "        orient='h' \n",
    "        )\n",
    "    for i in fig.containers:\n",
    "        fig.bar_label(i,)\n",
    "    plt.tight_layout()\n",
    "    plt.savefig(\n",
    "        join(wdir, \"figures\", \"personnames_counts.png\"),\n",
    "        dpi=300\n",
    "        )\n",
    "\n",
    "\n",
    "personnames_counts = most_frequent_persons(personnames)\n",
    "visualize_personnames_counts(personnames_counts)\n"
   ]
  }
 ],
 "metadata": {
  "kernelspec": {
   "display_name": "Python 3",
   "language": "python",
   "name": "python3"
  },
  "language_info": {
   "codemirror_mode": {
    "name": "ipython",
    "version": 3
   },
   "file_extension": ".py",
   "mimetype": "text/x-python",
   "name": "python",
   "nbconvert_exporter": "python",
   "pygments_lexer": "ipython3",
   "version": "3.10.6"
  },
  "orig_nbformat": 4
 },
 "nbformat": 4,
 "nbformat_minor": 2
}
