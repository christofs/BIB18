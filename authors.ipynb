{
 "cells": [
  {
   "attachments": {},
   "cell_type": "markdown",
   "metadata": {},
   "source": [
    "# Authors"
   ]
  },
  {
   "attachments": {},
   "cell_type": "markdown",
   "metadata": {},
   "source": [
    "## Most frequently occurring person names \n",
    "\n",
    "There are 94321 mentions of person names in the dataset, in total, for 31026 different person names. \n",
    "\n",
    "The person names occurring most frequently in the dataset, irrespective of context or function, are the following, with the number of occurrence of their names: \n",
    "\n",
    "- Porret, Michel: 439\n",
    "- Berchtold, Jacques: 388\n",
    "- Delon, Michel: 383\n",
    "- Voltaire: 346\n",
    "- Seth, Catriona: 306\n",
    "- Herman, Jan: 280\n",
    "- Pelckmans, Paul: 267\n",
    "- Moureau, François: 255\n",
    "- Sermain, Jean-Paul: 240\n",
    "- Bourdin, Philippe: 235\n",
    "\n"
   ]
  }
 ],
 "metadata": {
  "language_info": {
   "name": "python"
  },
  "orig_nbformat": 4
 },
 "nbformat": 4,
 "nbformat_minor": 2
}
