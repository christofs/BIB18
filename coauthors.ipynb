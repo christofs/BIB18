{
 "cells": [
  {
   "cell_type": "markdown",
   "metadata": {},
   "source": [
    "# Co-authors\n",
    "\n",
    "This page focuses on co-authorship in the *XVIIIe siècle: Bibliographie*. "
   ]
  },
  {
   "cell_type": "code",
   "execution_count": 1,
   "metadata": {},
   "outputs": [],
   "source": [
    "# === Imports === \n",
    "\n",
    "import re \n",
    "import seaborn as sns\n",
    "from matplotlib import pyplot as plt\n",
    "from os.path import join, abspath, normpath, realpath\n",
    "import os\n",
    "from lxml import etree\n",
    "from io import StringIO, BytesIO\n",
    "from collections import Counter\n",
    "import pandas as pd\n",
    "import numpy as np\n",
    "from IPython.display import HTML, display   \n",
    "import networkx as nx\n",
    "from pyvis.network import Network \n",
    "import matplotlib.pyplot as plt\n",
    "\n",
    "\n",
    "# === Namespaces === \n",
    "\n",
    "namespaces = {\n",
    "    \"foaf\" : \"http://xmlns.com/foaf/0.1/\",\n",
    "    \"bib\" : \"http://purl.org/net/biblio#\",\n",
    "    \"dc\" : \"http://purl.org/dc/elements/1.1/\",\n",
    "    \"z\" : \"http://www.zotero.org/namespaces/export#\",\n",
    "    \"rdf\" : \"http://www.w3.org/1999/02/22-rdf-syntax-ns#\"\n",
    "    }\n",
    "\n",
    "\n",
    "# === Files and parameters === \n",
    "\n",
    "bibdatafile = join(\"data\", \"BIB18_Zotero-RDF_2024-01-02.rdf\") \n",
    "#bibdatafile = join(wdir, \"data\", \"BIB18_Zotero-RDF_TEST.rdf\") \n",
    "\n",
    "\n",
    "# === Load the dataset === \n",
    "\n",
    "bibdata = etree.parse(bibdatafile)"
   ]
  },
  {
   "cell_type": "markdown",
   "metadata": {},
   "source": [
    "## Number of collaborators in co-authorship\n",
    "\n",
    "This section determines how frequent co-authorship is in the dataset. This is based on the number of names found within the \"authors\" element. For a comparison with co-editorship, see the section [Co-editors](co-editors.html). "
   ]
  },
  {
   "cell_type": "code",
   "execution_count": 2,
   "metadata": {
    "scrolled": true
   },
   "outputs": [
    {
     "name": "stdout",
     "output_type": "stream",
     "text": [
      "There are 56839 publications with a list of one or several authors in the dataset.\n"
     ]
    }
   ],
   "source": [
    "def get_coauthors(bibdata): \n",
    "    \"\"\"\n",
    "    Extracts the authorship information from the data. \n",
    "    \"\"\"\n",
    "    # First, find all lists of authors\n",
    "    xpath = \"//bib:authors\"\n",
    "    authors = bibdata.xpath(xpath, namespaces=namespaces)\n",
    "    print(\"There are \" + str(len(authors)) +  \" publications with a list of one or several authors in the dataset.\")\n",
    "\n",
    "    # Then, for each publication, get the list of authors (first and last name)\n",
    "    coauthors = []\n",
    "    xpath_lastname = \".//foaf:surname/text()\"\n",
    "    xpath_firstname = \".//foaf:givenName/text()\"\n",
    "    for item in authors: \n",
    "        lastnames = item.xpath(xpath_lastname, namespaces=namespaces)\n",
    "        firstnames = item.xpath(xpath_firstname, namespaces=namespaces)\n",
    "        fullnames = []\n",
    "        for last, first in zip(lastnames, firstnames):\n",
    "            full = last + \"_\" + first\n",
    "            fullnames.append(full)\n",
    "        if fullnames: \n",
    "            coauthors.append(fullnames)\n",
    "    return coauthors\n",
    "coauthors = get_coauthors(bibdata)"
   ]
  },
  {
   "cell_type": "markdown",
   "metadata": {},
   "source": [
    "As the next step, we want to see how many authors publications in the bibliography typically have, expressed both in counts and in percentages. The table below shows the results. "
   ]
  },
  {
   "cell_type": "code",
   "execution_count": 3,
   "metadata": {},
   "outputs": [
    {
     "data": {
      "text/html": [
       "<table border=\"1\" class=\"dataframe\">\n",
       "  <thead>\n",
       "    <tr style=\"text-align: right;\">\n",
       "      <th>number</th>\n",
       "      <th>count</th>\n",
       "      <th>percentage</th>\n",
       "    </tr>\n",
       "  </thead>\n",
       "  <tbody>\n",
       "    <tr>\n",
       "      <td>1</td>\n",
       "      <td>52635</td>\n",
       "      <td>94.16</td>\n",
       "    </tr>\n",
       "    <tr>\n",
       "      <td>2</td>\n",
       "      <td>3244</td>\n",
       "      <td>5.80</td>\n",
       "    </tr>\n",
       "    <tr>\n",
       "      <td>3</td>\n",
       "      <td>13</td>\n",
       "      <td>0.02</td>\n",
       "    </tr>\n",
       "    <tr>\n",
       "      <td>4</td>\n",
       "      <td>5</td>\n",
       "      <td>0.01</td>\n",
       "    </tr>\n",
       "  </tbody>\n",
       "</table>"
      ],
      "text/plain": [
       "<IPython.core.display.HTML object>"
      ]
     },
     "metadata": {},
     "output_type": "display_data"
    }
   ],
   "source": [
    "def get_coauthordata(coauthors): \n",
    "\n",
    "    # Get count of coauthor numbers\n",
    "    count_coauthors = Counter([len(item) for item in coauthors])\n",
    "\n",
    "    # Turn into a dataframe\n",
    "    coauthordata = pd.DataFrame.from_dict(\n",
    "        count_coauthors,\n",
    "        orient=\"index\",\n",
    "        columns=[\"count\"])\n",
    "\n",
    "    # Calculate percentages\n",
    "    coauthors_sum = np.sum(coauthordata[\"count\"])\n",
    "    coauthordata[\"percentage\"] = np.round(np.multiply(coauthordata[\"count\"] / coauthors_sum, 100), 2)\n",
    "\n",
    "    # Prettify the DataFrame\n",
    "    coauthordata[\"number\"] = coauthordata.index\n",
    "    coauthordata = coauthordata.sort_values(by=\"number\")\n",
    "    coauthordata = coauthordata[['number', 'count', 'percentage']]\n",
    "    display(HTML(coauthordata.to_html(index=False)))\n",
    "\n",
    "    return coauthordata\n",
    "coauthordata = get_coauthordata(coauthors)"
   ]
  },
  {
   "cell_type": "markdown",
   "metadata": {},
   "source": [
    "Of course, we can also display these results as a bar chart, for easier visual inspection  (and comparison to the barchart in the [Co-editor section](coeditors.html).)"
   ]
  },
  {
   "cell_type": "code",
   "execution_count": 5,
   "metadata": {},
   "outputs": [
    {
     "data": {
      "image/png": "[encoded data removed]",
      "text/plain": [
       "<Figure size 640x480 with 1 Axes>"
      ]
     },
     "metadata": {},
     "output_type": "display_data"
    }
   ],
   "source": [
    "def visualize_coauthordata(coauthordata): \n",
    "    \"\"\"\n",
    "    Create a simple bar plot that shows \n",
    "    the percentage of each count of co-authors in the dataset.\n",
    "    \"\"\"\n",
    "\n",
    "    import seaborn.objects as so\n",
    "    (\n",
    "        so.Plot(data=coauthordata, x=\"number\", y=\"count\", text=\"percentage\")\n",
    "        .add(so.Bar())\n",
    "        .add(so.Text(color=\"w\", valign=\"top\", offset=5))\n",
    "        .scale(x=so.Continuous().tick(every=1))\n",
    "        .label(\n",
    "            x=\"Number of co-authors\",\n",
    "            y=\"Counts (% shown as labels)\",\n",
    "            title = \"Counts and percentages of different number of co-authors\")\n",
    "        .save(\"figures/coauthor-percentages.svg\", dpi=300)\n",
    "        .show()\n",
    "    )\n",
    "visualize_coauthordata(coauthordata)"
   ]
  },
  {
   "cell_type": "markdown",
   "metadata": {},
   "source": [
    "Regarding authorship (of books, articles and chapters), the figure above shows that single authorship is clearly the norm in this dataset (with around 94% of the cases). The remaining 6% are alsmost all cases of dual authorship, with a rare exceptions of triple or more authorship. \n",
    "\n",
    "In contrast, when looking at editorship, joint editorship with two editors is the most common case (around 42%), closely followed by single editorship (almost 40%). Triple co-editorship is rarer, but not uncommon (at around 14%). "
   ]
  },
  {
   "cell_type": "markdown",
   "metadata": {},
   "source": [
    "## Coauthor pairs\n",
    "\n",
    "Even if coauthorship is comparatively rare, we can still try to build a network of co-authors. The table below shows the people most frequently authoring a publication jointly. "
   ]
  },
  {
   "cell_type": "code",
   "execution_count": 6,
   "metadata": {
    "scrolled": true
   },
   "outputs": [
    {
     "data": {
      "text/html": [
       "<table border=\"1\" class=\"dataframe\">\n",
       "  <thead>\n",
       "    <tr style=\"text-align: right;\">\n",
       "      <th>coauthor1</th>\n",
       "      <th>coauthor2</th>\n",
       "      <th>count</th>\n",
       "    </tr>\n",
       "  </thead>\n",
       "  <tbody>\n",
       "    <tr>\n",
       "      <td>Albertan_Christian</td>\n",
       "      <td>Chouillet_Anne-Marie</td>\n",
       "      <td>22</td>\n",
       "    </tr>\n",
       "    <tr>\n",
       "      <td>Desberg_Stephen</td>\n",
       "      <td>Marini_Enrico</td>\n",
       "      <td>15</td>\n",
       "    </tr>\n",
       "    <tr>\n",
       "      <td>Berchtold_Jacques</td>\n",
       "      <td>Porret_Michel</td>\n",
       "      <td>12</td>\n",
       "    </tr>\n",
       "    <tr>\n",
       "      <td>Cabane_Franck</td>\n",
       "      <td>Chouillet_Anne-Marie</td>\n",
       "      <td>10</td>\n",
       "    </tr>\n",
       "    <tr>\n",
       "      <td>Boussuge_Emmanuel</td>\n",
       "      <td>Launay_Françoise</td>\n",
       "      <td>9</td>\n",
       "    </tr>\n",
       "    <tr>\n",
       "      <td>Hourcade_Philippe</td>\n",
       "      <td>Vinha_Mathieu Da</td>\n",
       "      <td>9</td>\n",
       "    </tr>\n",
       "    <tr>\n",
       "      <td>Brown_Andrew</td>\n",
       "      <td>Kölving_Ulla</td>\n",
       "      <td>8</td>\n",
       "    </tr>\n",
       "    <tr>\n",
       "      <td>Chouillet_Anne-Marie</td>\n",
       "      <td>Loty_Laurent</td>\n",
       "      <td>8</td>\n",
       "    </tr>\n",
       "    <tr>\n",
       "      <td>Adelson_Robert</td>\n",
       "      <td>Letzter_Jacqueline</td>\n",
       "      <td>7</td>\n",
       "    </tr>\n",
       "    <tr>\n",
       "      <td>Lüsebrink_Hans-Jürgen</td>\n",
       "      <td>Reichardt_Rolf</td>\n",
       "      <td>7</td>\n",
       "    </tr>\n",
       "    <tr>\n",
       "      <td>Bonpland_Aimé</td>\n",
       "      <td>von Humboldt_Alexander</td>\n",
       "      <td>7</td>\n",
       "    </tr>\n",
       "    <tr>\n",
       "      <td>Pastoureau_Michel</td>\n",
       "      <td>Wagman_Mathilde</td>\n",
       "      <td>7</td>\n",
       "    </tr>\n",
       "    <tr>\n",
       "      <td>Gengembre_Gérard</td>\n",
       "      <td>Goldzink_Jean</td>\n",
       "      <td>7</td>\n",
       "    </tr>\n",
       "    <tr>\n",
       "      <td>Chouillet, Anne-Marie_Irène Passeron</td>\n",
       "      <td>Prin_François</td>\n",
       "      <td>6</td>\n",
       "    </tr>\n",
       "    <tr>\n",
       "      <td>McKenna_Antony</td>\n",
       "      <td>Mori_Gianluca</td>\n",
       "      <td>6</td>\n",
       "    </tr>\n",
       "  </tbody>\n",
       "</table>"
      ],
      "text/plain": [
       "<IPython.core.display.HTML object>"
      ]
     },
     "metadata": {},
     "output_type": "display_data"
    }
   ],
   "source": [
    "import warnings\n",
    "import pandas as pd\n",
    "from pandas.core.common import SettingWithCopyWarning\n",
    "warnings.simplefilter(action=\"ignore\", category=SettingWithCopyWarning)\n",
    "\n",
    "\n",
    "def network_coauthors(coauthordata): \n",
    "    \"\"\"\n",
    "    Builds the network of people having collaborated as authors. \n",
    "    \"\"\"\n",
    "\n",
    "    # Filter out the single author data\n",
    "    coauthors = [item for item in coauthordata if len(item) > 1]\n",
    "\n",
    "    # Establish the count of each collaboration between authors\n",
    "    import itertools \n",
    "    all_coauthor_combinations = []\n",
    "    for item in coauthors: \n",
    "        coauthors_combinations = list(itertools.combinations(item, 2))\n",
    "        coauthors_combinations = [tuple(sorted(item)) for item in coauthors_combinations]\n",
    "        for coauthcomb in coauthors_combinations: \n",
    "            all_coauthor_combinations.append(coauthcomb)\n",
    "    cac = dict(Counter(all_coauthor_combinations)) # ccc = coeditor_combinations_count\n",
    "\n",
    "    # Transform to a DataFrame\n",
    "    cac = pd.DataFrame.from_dict(cac, orient=\"index\", columns=[\"count\"])\n",
    "    cac = cac.reset_index()\n",
    "    cac_split = pd.DataFrame(cac[\"index\"].tolist())\n",
    "    cac_merged = cac_split.merge(cac, left_index=True, right_index=True)\n",
    "    cac = cac_merged.drop([\"index\"], axis=1)\n",
    "    cac = cac.rename({0 : \"coauthor1\", 1 : \"coauthor2\"}, axis=1)\n",
    "    cac = cac.sort_values(by=\"count\", ascending=False)\n",
    "    display(HTML(cac.head(15).to_html(index=False)))\n",
    "\n",
    "    return cac\n",
    "cac = network_coauthors(coauthors)"
   ]
  },
  {
   "cell_type": "markdown",
   "metadata": {},
   "source": [
    "## Co-author networks\n",
    "\n",
    "Based on the coauthor pairs, we can now build a network visualisation. "
   ]
  },
  {
   "cell_type": "code",
   "execution_count": 7,
   "metadata": {},
   "outputs": [
    {
     "name": "stdout",
     "output_type": "stream",
     "text": [
      "Among all authors, 183 have been selected as the most active co-authors.\n",
      "With all their co-authors, the network includes a total of 354 authors.\n",
      "figures/coauthor-network.html\n"
     ]
    }
   ],
   "source": [
    "def create_plot(cac, topn): \n",
    "    \"\"\" \n",
    "    Plot the co-editor data as a network using pyvis. \n",
    "    \"\"\"\n",
    "    \n",
    "    # Filter the dataset \n",
    "    # Determine the top N most frequent co-editors\n",
    "    coauthors_top = list(set(list(cac.head(topn).loc[:,\"coauthor1\"]) +\\\n",
    "        list(cac.head(topn).loc[:,\"coauthor2\"])))\n",
    "\n",
    "    print(\"Among all authors, \" + str(len(coauthors_top)) + \" have been selected as the most active co-authors.\")\n",
    "\n",
    "    # Filter the DataFrame to include just the collaborations involving at least one of the top co-authors. \n",
    "    # The resulting DataFrame will have all collaborations between the top co-editors and their co-authors. \n",
    "    cac = cac[(cac[\"coauthor1\"].isin(coauthors_top)) |\\\n",
    "                       (cac[\"coauthor2\"].isin(coauthors_top))]\n",
    "\n",
    "    # Simplify the labels \n",
    "    cac.loc[:,'coauthor1'] =  [re.sub(r', .*','', str(x)) for x in cac.loc[:,'coauthor1']]\n",
    "    cac.loc[:,'coauthor2'] =  [re.sub(r', .*','', str(x)) for x in cac.loc[:,'coauthor2']]\n",
    "\n",
    "    # Prepare the dataset\n",
    "    cac.rename(columns={\"count\": \"weight\"}, inplace=True)\n",
    "    cac = cac[cac[\"weight\"] > 0] # for filtering, with \"0\", all items remain\n",
    "\n",
    "    # Load the data into a NetworkX graph\n",
    "    net = Network('1600px', '2800px', notebook=True, cdn_resources='in_line')\n",
    "    G = nx.Graph()\n",
    "    for line in cac.iterrows(): \n",
    "        #print(line[1][0], end=\"\\n\")\n",
    "        G.add_edge(\n",
    "            # full names\n",
    "            line[1][0],\n",
    "            line[1][1],\n",
    "            # last names only\n",
    "            #re.split(\"_\", line[1][0])[0],\n",
    "            #re.split(\"_\", line[1][1])[0],\n",
    "            weight=line[1][2],\n",
    "            title=line[1][2],\n",
    "            )\n",
    "    degrees = dict(G.degree)\n",
    "    degrees.update((x, ((y*50)**0.5)) for x, y in degrees.items())\n",
    "    nx.set_node_attributes(G, degrees, 'size') \n",
    "    print(\"With all their co-authors, the network includes a total of\", str(nx.number_of_nodes(G)), \"authors.\")\n",
    "\n",
    "    # Plot the data using pyvis\n",
    "    net.from_nx(G)\n",
    "    net.toggle_physics(True)\n",
    "    net.show(\"figures/coauthor-network.html\")\n",
    "create_plot(cac, topn=100)\n"
   ]
  },
  {
   "cell_type": "markdown",
   "metadata": {},
   "source": [
    "Click on the following plot to load the interactive, zoomable and scrollable network. \n",
    "\n",
    "[![](figures/coauthor_network_dummy.png)](figures/coauthor-network.html)"
   ]
  },
  {
   "cell_type": "markdown",
   "metadata": {},
   "source": [
    "At a first glance, especially when compared to the dense co-editor network, what strikes here is the relative sparsity of the connections. There is a more densely-connected subnetwork at the center, but there are also many unconnected subnetworks of co-authorship."
   ]
  }
 ],
 "metadata": {
  "kernelspec": {
   "display_name": "Python 3 (ipykernel)",
   "language": "python",
   "name": "python3"
  },
  "language_info": {
   "codemirror_mode": {
    "name": "ipython",
    "version": 3
   },
   "file_extension": ".py",
   "mimetype": "text/x-python",
   "name": "python",
   "nbconvert_exporter": "python",
   "pygments_lexer": "ipython3",
   "version": "3.10.12"
  }
 },
 "nbformat": 4,
 "nbformat_minor": 2
}
