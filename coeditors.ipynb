{
 "cells": [
  {
   "cell_type": "markdown",
   "metadata": {},
   "source": [
    "# Co-editors\n",
    "\n",
    "This page focuses on co-editorship, especially of edited volumes, in the *Bibliographie*.   "
   ]
  },
  {
   "cell_type": "code",
   "execution_count": 5,
   "metadata": {},
   "outputs": [],
   "source": [
    "# === Imports === \n",
    "\n",
    "import re \n",
    "import seaborn as sns\n",
    "from matplotlib import pyplot as plt\n",
    "from os.path import join, abspath, normpath, realpath\n",
    "import os\n",
    "from lxml import etree\n",
    "from io import StringIO, BytesIO\n",
    "from collections import Counter\n",
    "import pandas as pd\n",
    "import netgraph\n",
    "import numpy as np\n",
    "from IPython.display import HTML, display   \n",
    "import networkx as nx\n",
    "from pyvis.network import Network \n",
    "import matplotlib.pyplot as plt\n",
    "\n",
    "\n",
    "# === Namespaces === \n",
    "\n",
    "namespaces = {\n",
    "    \"foaf\" : \"http://xmlns.com/foaf/0.1/\",\n",
    "    \"bib\" : \"http://purl.org/net/biblio#\",\n",
    "    \"dc\" : \"http://purl.org/dc/elements/1.1/\",\n",
    "    \"z\" : \"http://www.zotero.org/namespaces/export#\",\n",
    "    \"rdf\" : \"http://www.w3.org/1999/02/22-rdf-syntax-ns#\"\n",
    "    }\n",
    "\n",
    "\n",
    "# === Files and parameters === \n",
    "\n",
    "wdir = join(\"/\", \"media\", \"christof\", \"Data\", \"Github\", \"christofs\", \"BIB18\")\n",
    "bibdatafile = join(wdir, \"data\", \"BIB18_Zotero-RDF_2024-01-02.rdf\") \n",
    "#bibdatafile = join(wdir, \"data\", \"BIB18_Zotero-RDF_TEST.rdf\") \n",
    "#graphviz_file = join(wdir, \"figures\", \"collaboration_coeditors-network.svg\") \n",
    "\n",
    "\n",
    "# === Load the dataset === \n",
    "\n",
    "def read_xml(bibdatafile): \n",
    "    bibdata = etree.parse(bibdatafile)\n",
    "    return bibdata\n",
    "\n",
    "bibdata = read_xml(bibdatafile)"
   ]
  },
  {
   "cell_type": "markdown",
   "metadata": {},
   "source": [
    "\n",
    "## Collecting all publications that have editors\n",
    "\n",
    "For the time being, only books (including editions) and book sections are considered. Multiple entries of the same edited volume are taken into account only once. This avoids an undue inflation of the number of cases of co-editorship in cases where multiple chapters from the same edited volume are present in the database. "
   ]
  },
  {
   "cell_type": "code",
   "execution_count": 40,
   "metadata": {
    "scrolled": true
   },
   "outputs": [
    {
     "name": "stdout",
     "output_type": "stream",
     "text": [
      "There are 14421 instances of element 'BookSection'.\n",
      "There are 23059 instances of element 'book'.\n",
      "Overall, there are 37480 publications included at this point.\n"
     ]
    }
   ],
   "source": [
    "def get_editordata(bibdata): \n",
    "    \"\"\"\n",
    "    Collects data on the titles and editors of all collected volumes for which the dataset includes book sections (like chapters).\n",
    "    Simplifies the data to just unique titles of collected volumes with their editors.\n",
    "    \"\"\"\n",
    "    # Find all instances of book chapters or book sections\n",
    "    xpath = \"//bib:BookSection\"\n",
    "    sections = bibdata.xpath(xpath, namespaces=namespaces)\n",
    "    print(\"There are \" + str(len(sections)) +  \" instances of element 'BookSection'.\")\n",
    "\n",
    "    # Also, find all instances of books mentioned as a whole and that have editors. \n",
    "    xpath = \"/rdf:RDF/bib:Book\"\n",
    "    books = bibdata.xpath(xpath, namespaces=namespaces)\n",
    "    print(\"There are \" + str(len(books)) +  \" instances of element 'book'.\")\n",
    "    sections.extend(books)\n",
    "    print(\"Overall, there are\", len(sections), \"publications included at this point.\")\n",
    "\n",
    "    # For each section (and each book), get the editor(s) and booktitle\n",
    "    editordata = {}\n",
    "    counter = 0\n",
    "    for item in sections[:]: \n",
    "        counter +=1\n",
    "        xpath = \".//bib:editors//foaf:surname//text()\"\n",
    "        editors = item.xpath(xpath, namespaces=namespaces)\n",
    "        editors = [editor for editor in editors if \"lacollaborationde\" not in editor]\n",
    "        xpath = \".//bib:Book/dc:title//text()\"\n",
    "        try: \n",
    "            booktitle = item.xpath(xpath, namespaces=namespaces)[0]\n",
    "        except: \n",
    "            booktitle = \"missing title number \" + str(counter)\n",
    "            #print(booktitle) # Only happens less than 10 times, it seems. \n",
    "        # Collect each booktitle only once; only last occurrence is kept (!)\n",
    "        if len(editors) > 0: \n",
    "            editordata[booktitle] = editors\n",
    "    # Check results \n",
    "    #print(\"All of the book sections mentioned above correspond to (only)\", len(editordata), \"different titles of edited volumes.\")\n",
    "    #ratio = np.round(np.divide(len(sections), len(editordata)),2)\n",
    "    #print(\"This means that, on average, an edited volume is mentioned\", ratio, \"times, each mention corresponding to one section of the volume being mentioned.\")\n",
    "\n",
    "    #for title,editors in editordata.items(): \n",
    "    #    print(editors,title)\n",
    "    return editordata\n",
    "editordata = get_editordata(bibdata)"
   ]
  },
  {
   "cell_type": "markdown",
   "metadata": {},
   "source": [
    "Note that many of the books don't have editors, because they are monographs. Also, many book sections correspond to different chapters from the same edited volume. Whenever that is the case, the books without editor are discarded and each edited volume is only considered once, in the next step. The total number of publications considered for the co-editor analysis is therefore substantially lower. \n"
   ]
  },
  {
   "cell_type": "markdown",
   "metadata": {},
   "source": [
    "## Prevalence of co-editor numbers \n",
    "\n",
    "Based on the data on book titles that have one or several editors, we can now investigate the prevalence of the different numbers of editors books typically have. The following table shows this data. "
   ]
  },
  {
   "cell_type": "code",
   "execution_count": 42,
   "metadata": {},
   "outputs": [
    {
     "data": {
      "text/html": [
       "<table border=\"1\" class=\"dataframe\">\n",
       "  <thead>\n",
       "    <tr style=\"text-align: right;\">\n",
       "      <th>number</th>\n",
       "      <th>count</th>\n",
       "      <th>percentage</th>\n",
       "    </tr>\n",
       "  </thead>\n",
       "  <tbody>\n",
       "    <tr>\n",
       "      <td>1</td>\n",
       "      <td>2690</td>\n",
       "      <td>39.2</td>\n",
       "    </tr>\n",
       "    <tr>\n",
       "      <td>2</td>\n",
       "      <td>2867</td>\n",
       "      <td>41.8</td>\n",
       "    </tr>\n",
       "    <tr>\n",
       "      <td>3</td>\n",
       "      <td>973</td>\n",
       "      <td>14.2</td>\n",
       "    </tr>\n",
       "    <tr>\n",
       "      <td>4</td>\n",
       "      <td>271</td>\n",
       "      <td>3.9</td>\n",
       "    </tr>\n",
       "    <tr>\n",
       "      <td>5</td>\n",
       "      <td>55</td>\n",
       "      <td>0.8</td>\n",
       "    </tr>\n",
       "    <tr>\n",
       "      <td>6</td>\n",
       "      <td>6</td>\n",
       "      <td>0.1</td>\n",
       "    </tr>\n",
       "    <tr>\n",
       "      <td>10</td>\n",
       "      <td>1</td>\n",
       "      <td>0.0</td>\n",
       "    </tr>\n",
       "  </tbody>\n",
       "</table>"
      ],
      "text/plain": [
       "<IPython.core.display.HTML object>"
      ]
     },
     "metadata": {},
     "output_type": "display_data"
    }
   ],
   "source": [
    "def get_coeditor_numbers(editordata): \n",
    "    \"\"\"\n",
    "    Based on the editordata, establish the number of times each number of co-editors appears, \n",
    "    as well as the corresponding percentages for each number of co-editors. \n",
    "    \"\"\"\n",
    "    coeditors = Counter([len(item) for item in editordata.values()])\n",
    "    coeditors = pd.DataFrame(pd.Series(coeditors, name=\"count\"))\n",
    "    #coeditors.drop(0, axis=0, inplace=True)\n",
    "\n",
    "    coeditors[\"percentage\"] = np.round(np.multiply(np.divide(coeditors[\"count\"], np.sum(coeditors[\"count\"])),100),1)\n",
    "    # Prettify the DataFrame\n",
    "    coeditors[\"number\"] = coeditors.index\n",
    "    coeditors = coeditors.sort_values(by=\"number\")\n",
    "    coeditors = coeditors[['number', 'count', 'percentage']]\n",
    "    display(HTML(coeditors.to_html(index=False)))\n",
    "    return coeditors\n",
    "coeditors = get_coeditor_numbers(editordata)"
   ]
  },
  {
   "cell_type": "markdown",
   "metadata": {},
   "source": [
    "The following visualization shows counts and percentages for different numbers of co-editors."
   ]
  },
  {
   "cell_type": "code",
   "execution_count": 43,
   "metadata": {},
   "outputs": [
    {
     "data": {
      "image/png": "[encoded data removed]",
      "text/plain": [
       "<Figure size 640x480 with 1 Axes>"
      ]
     },
     "metadata": {},
     "output_type": "display_data"
    }
   ],
   "source": [
    "def visualize_coeditor_numbers(coeditors): \n",
    "    \"\"\"\n",
    "    Create a simple bar plot that shows \n",
    "    the percentage of each number of co-editors in the dataset.\n",
    "    \"\"\"\n",
    "\n",
    "    coeditors = coeditors.iloc[:-1,:]\n",
    "    import seaborn.objects as so\n",
    "    (\n",
    "        so.Plot(data=coeditors, x=\"number\", y=\"count\", text=\"percentage\")\n",
    "        .add(so.Bar())\n",
    "        .add(so.Text(color=\"w\", valign=\"top\", offset=5))\n",
    "        .scale(x=so.Continuous().tick(every=1))\n",
    "        .label(\n",
    "            x=\"Number of co-editors\",\n",
    "            y=\"Counts (% shown as labels)\",\n",
    "            title = \"Counts and percentages of different number of co-editors\")\n",
    "        .save(\"figures/coeditor-percentages.png\", dpi=300)\n",
    "        .show()\n",
    "    )\n",
    "visualize_coeditor_numbers(coeditors)"
   ]
  },
  {
   "cell_type": "markdown",
   "metadata": {},
   "source": [
    "Compared with the data on co-authorship (of books, articles and chapters), the figure above shows that co-editorship works quite differently. Indeed, when looking at editorship (of edited volumes or editions), joint editorship with two editors is the most common case (with almost 42% of the cases). Single editorship, however, is only slighly less widespread (at 39%). Triple co-editorship is also not uncommon, though clearly at a much lower level (at around 14%). \n",
    "\n",
    "It could be interesting to distinguish between editorship of edited volumes on the one hand, and textual editions, on the other hand. This is future work, because the dataset does not distinguish these two publication types at the moment. "
   ]
  },
  {
   "cell_type": "markdown",
   "metadata": {},
   "source": [
    "## Coeditor pairs\n",
    "\n",
    "This section looks at which people have frequently collaborated as editors of edited volumes and/or editions. The table below shows the 10 most active pairs of editors.\n"
   ]
  },
  {
   "cell_type": "code",
   "execution_count": 50,
   "metadata": {
    "scrolled": true
   },
   "outputs": [
    {
     "name": "stdout",
     "output_type": "stream",
     "text": [
      "Overall, 6863 publications with editors are considered here.\n",
      "Among all editors, 44 have been selected as the most active co-editors.\n",
      "In the following analysis, all editors they have collaborated with, however, are included.\n"
     ]
    },
    {
     "data": {
      "text/html": [
       "<table border=\"1\" class=\"dataframe\">\n",
       "  <thead>\n",
       "    <tr style=\"text-align: right;\">\n",
       "      <th>coeditor1</th>\n",
       "      <th>coeditor2</th>\n",
       "      <th>count</th>\n",
       "    </tr>\n",
       "  </thead>\n",
       "  <tbody>\n",
       "    <tr>\n",
       "      <td>Herman</td>\n",
       "      <td>Pelckmans</td>\n",
       "      <td>24</td>\n",
       "    </tr>\n",
       "    <tr>\n",
       "      <td>Hasquin</td>\n",
       "      <td>Mortier</td>\n",
       "      <td>18</td>\n",
       "    </tr>\n",
       "    <tr>\n",
       "      <td>Biard</td>\n",
       "      <td>Leuwers</td>\n",
       "      <td>12</td>\n",
       "    </tr>\n",
       "    <tr>\n",
       "      <td>Biard</td>\n",
       "      <td>Bourdin</td>\n",
       "      <td>11</td>\n",
       "    </tr>\n",
       "    <tr>\n",
       "      <td>Berchtold</td>\n",
       "      <td>Porret</td>\n",
       "      <td>9</td>\n",
       "    </tr>\n",
       "    <tr>\n",
       "      <td>Lüsebrink</td>\n",
       "      <td>Mix</td>\n",
       "      <td>8</td>\n",
       "    </tr>\n",
       "    <tr>\n",
       "      <td>Peeters</td>\n",
       "      <td>Pelckmans</td>\n",
       "      <td>8</td>\n",
       "    </tr>\n",
       "    <tr>\n",
       "      <td>Bourdin</td>\n",
       "      <td>Leuwers</td>\n",
       "      <td>8</td>\n",
       "    </tr>\n",
       "    <tr>\n",
       "      <td>Herman</td>\n",
       "      <td>Peeters</td>\n",
       "      <td>8</td>\n",
       "    </tr>\n",
       "    <tr>\n",
       "      <td>Didier</td>\n",
       "      <td>Neefs</td>\n",
       "      <td>7</td>\n",
       "    </tr>\n",
       "  </tbody>\n",
       "</table>"
      ],
      "text/plain": [
       "<IPython.core.display.HTML object>"
      ]
     },
     "metadata": {},
     "output_type": "display_data"
    }
   ],
   "source": [
    "import warnings\n",
    "import pandas as pd\n",
    "from pandas.core.common import SettingWithCopyWarning\n",
    "warnings.simplefilter(action=\"ignore\", category=SettingWithCopyWarning)\n",
    "\n",
    "\n",
    "def get_recurring_coeditors(editordata): \n",
    "    \"\"\"\n",
    "    Which people have frequently collaborated as editors? \n",
    "    This is based on the data collected above (editors of unique titles). \n",
    "    \"\"\"\n",
    "\n",
    "    # Define filenames for output. \n",
    "    coeditorcounts_top_file = join(wdir, \"results\", \"coeditor-counts_top.csv\")\n",
    "    coeditorcounts_full_file = join(wdir, \"results\", \"coeditor-counts_full.csv\")\n",
    "\n",
    "    # Get editor names from editordata. \n",
    "    coeditors = editordata.values()\n",
    "    print(\"Overall,\", len(coeditors), \"publications with editors are considered here.\")\n",
    "\n",
    "    # Establish the count of each collaboration between editors\n",
    "    import itertools \n",
    "    all_coeditor_combinations = []\n",
    "    for item in coeditors: \n",
    "        coeditor_combinations = list(itertools.combinations(item, 2))\n",
    "        coeditor_combinations = [tuple(sorted(item)) for item in coeditor_combinations]\n",
    "        for coedcomb in coeditor_combinations: \n",
    "            all_coeditor_combinations.append(coedcomb)\n",
    "    ccc = dict(Counter(all_coeditor_combinations)) # ccc = coeditor_combinations_count\n",
    "\n",
    "    # Transform to a DataFrame\n",
    "    ccc = pd.DataFrame.from_dict(ccc, orient=\"index\", columns=[\"count\"])\n",
    "    ccc = ccc.reset_index()\n",
    "    ccc_split = pd.DataFrame(ccc[\"index\"].tolist())\n",
    "    ccc_merged = ccc_split.merge(ccc, left_index=True, right_index=True)\n",
    "    ccc = ccc_merged.drop([\"index\"], axis=1)\n",
    "    ccc = ccc.rename({0 : \"coeditor1\", 1 : \"coeditor2\"}, axis=1)\n",
    "    ccc = ccc.sort_values(by=\"count\", ascending=False)\n",
    "    #print(ccc.head())\n",
    "    #print(ccc.shape, \"shape of dataframe\")\n",
    "    with open(join(coeditorcounts_full_file), \"w\", encoding=\"utf8\") as outfile: \n",
    "        ccc.to_csv(outfile, sep=\";\")\n",
    "\n",
    "    # Filter the DataFrame to make it manageable for visualization\n",
    "    # Determine the top N most frequent co-editors\n",
    "    coeditors_top = list(set(list(ccc.head(30).loc[:,\"coeditor1\"]) +\\\n",
    "        list(ccc.head(30).loc[:,\"coeditor2\"])))\n",
    "    #print(coeditors_top)\n",
    "    print(\"Among all editors, \" + str(len(coeditors_top)) + \" have been selected as the most active co-editors.\")\n",
    "    print(\"In the following analysis, all editors they have collaborated with, however, are included.\")\n",
    "    # Filter the DataFrame to include just the collaborations involving at least one of the top co-editors. \n",
    "    # The resulting DataFrame will have all collaborations between the top co-editors and their co-editors. \n",
    "    ccc_filtered = ccc[(ccc[\"coeditor1\"].isin(coeditors_top)) |\\\n",
    "                       (ccc[\"coeditor2\"].isin(coeditors_top))]\n",
    "    #print(ccc_filtered.shape, \"shape of dataframe of top co-editors and their co-editors.\")\n",
    "    # Simplify the labels \n",
    "    #ccc_filtered = ccc_filtered.replace(' .*?]', '',regex=True).astype(str)\n",
    "    ccc_filtered.loc[:,'coeditor1'] =  [re.sub(r', .*','', str(x)) for x in ccc_filtered.loc[:,'coeditor1']]\n",
    "    ccc_filtered.loc[:,'coeditor2'] =  [re.sub(r', .*','', str(x)) for x in ccc_filtered.loc[:,'coeditor2']]\n",
    "\n",
    "    # Display this as a formatted table    \n",
    "    display(HTML(ccc_filtered.head(10).to_html(index=False)))\n",
    "\n",
    "    with open(join(coeditorcounts_top_file), \"w\", encoding=\"utf8\") as outfile: \n",
    "        ccc_filtered.to_csv(outfile, sep=\";\")\n",
    "    return ccc_filtered\n",
    "\n",
    "ccc_filtered = get_recurring_coeditors(editordata)"
   ]
  },
  {
   "cell_type": "markdown",
   "metadata": {},
   "source": [
    "## Co-editor network\n",
    "\n",
    "Based on the frequency of co-editorships, it is possible to draw a network representation. \n",
    "\n",
    "The network visualization shows the editors as nodes, with their weighted degree determining the node size (the more publications they have edited with together with someone else, the larger the node). And it shows the intensity of their collaboration as the edges, with the number of coedited volumes determining the edge thickness (the more publications two editors have collaborated on, the thicker the line between them). The network layout aims to show groups of people who belong to a sub-network of co-editors who, as a group, work together frequently. "
   ]
  },
  {
   "cell_type": "code",
   "execution_count": 91,
   "metadata": {},
   "outputs": [
    {
     "name": "stdout",
     "output_type": "stream",
     "text": [
      "Graph with 308 nodes and 367 edges\n",
      "figures/coeditor-network.html\n"
     ]
    }
   ],
   "source": [
    "def create_plot(ccc_filtered): \n",
    "    \"\"\" \n",
    "    Plot the co-editor data as a network using pyvis. \n",
    "    \"\"\"\n",
    "    # Prepare the dataset\n",
    "    ccc = ccc_filtered\n",
    "    ccc.rename(columns={\"count\": \"weight\"}, inplace=True)\n",
    "    ccc = ccc[ccc[\"weight\"] > 0] # for filtering, with \"0\", all items remain\n",
    "\n",
    "    # Load the data into a NetworkX graph\n",
    "    net = Network('1600px', '2800px', notebook=True, cdn_resources='in_line')\n",
    "    G = nx.Graph()\n",
    "    for line in ccc.iterrows(): \n",
    "        G.add_edge(line[1][0], line[1][1], weight=line[1][2], title=line[1][2])\n",
    "    degrees = dict(G.degree)\n",
    "    degrees.update((x, ((y*10)**0.5)) for x, y in degrees.items())\n",
    "    nx.set_node_attributes(G, degrees, 'size')\n",
    "    print(G)\n",
    "    \n",
    "    # Plot the data using pyvis\n",
    "    net.from_nx(G)\n",
    "    net.toggle_physics(True)\n",
    "    net.show(\"figures/coeditor-network.html\")\n",
    "    return G, degrees\n",
    "G, degrees = create_plot(ccc_filtered)\n"
   ]
  },
  {
   "cell_type": "markdown",
   "metadata": {},
   "source": [
    "This data can be visualized as a network. Click on the following image for an interactive network plot. \n",
    "\n",
    "[![coeditor network](figures/coeditor-network_dummy.png)](figures/coeditor-network.html) "
   ]
  },
  {
   "cell_type": "markdown",
   "metadata": {},
   "source": [
    "The visualization shows, like the tabular display, that Herman and Pelckmans (with 24 co-edited volumes the collaborated on!) and Hasquins and Mortier (with 18 edited volumes) are the most intense collaborators in terms of co-editorship. \n",
    "\n",
    "More interestingly, however, the network visualisation shows that there are multiple, independent co-editor networks. Some of them are loosely connected between each other, others are entirely disconnected from the main network. And some co-editors serve as connections between several sub-networks, like Sermain connecting the sub-networks of Didier-Neefs, Berchtold and Herman-Pelckmans with each other (the latter two being only indirectly connected, otherwise). Chartier connecting the sub-networks Martin on the one hand, Lüsebrink-Mix on the other. "
   ]
  },
  {
   "cell_type": "markdown",
   "metadata": {},
   "source": [
    "## An additional look at the graph data\n",
    "\n",
    "Based on the data modeled as a graph, we can not only visualize it, but also extract some additional information. For example, the total number of co-editorships a given person has engaged in determines their 'degree' in the network. This data is already used in the visualization to determine various node sizes, but the people with the highest degrees can be shown here separately as well. \n"
   ]
  },
  {
   "cell_type": "code",
   "execution_count": 92,
   "metadata": {},
   "outputs": [
    {
     "data": {
      "text/html": [
       "<table border=\"1\" class=\"dataframe\">\n",
       "  <thead>\n",
       "    <tr style=\"text-align: right;\">\n",
       "      <th>coeditor</th>\n",
       "      <th>degree</th>\n",
       "    </tr>\n",
       "  </thead>\n",
       "  <tbody>\n",
       "    <tr>\n",
       "      <td>Martin</td>\n",
       "      <td>49.0</td>\n",
       "    </tr>\n",
       "    <tr>\n",
       "      <td>Bourdin</td>\n",
       "      <td>24.0</td>\n",
       "    </tr>\n",
       "    <tr>\n",
       "      <td>Lüsebrink</td>\n",
       "      <td>23.0</td>\n",
       "    </tr>\n",
       "    <tr>\n",
       "      <td>Porret</td>\n",
       "      <td>22.0</td>\n",
       "    </tr>\n",
       "    <tr>\n",
       "      <td>Berchtold</td>\n",
       "      <td>21.0</td>\n",
       "    </tr>\n",
       "    <tr>\n",
       "      <td>Leuwers</td>\n",
       "      <td>17.0</td>\n",
       "    </tr>\n",
       "    <tr>\n",
       "      <td>Herman</td>\n",
       "      <td>16.0</td>\n",
       "    </tr>\n",
       "    <tr>\n",
       "      <td>Biard</td>\n",
       "      <td>14.0</td>\n",
       "    </tr>\n",
       "    <tr>\n",
       "      <td>Rosset</td>\n",
       "      <td>13.0</td>\n",
       "    </tr>\n",
       "    <tr>\n",
       "      <td>Barbier</td>\n",
       "      <td>13.0</td>\n",
       "    </tr>\n",
       "  </tbody>\n",
       "</table>"
      ],
      "text/plain": [
       "<IPython.core.display.HTML object>"
      ]
     },
     "metadata": {},
     "output_type": "display_data"
    }
   ],
   "source": [
    "def check_degrees(degrees): \n",
    "    # Reverse the scaling from the visualization\n",
    "    degrees.update((x, ((y**2)/10)) for x, y in degrees.items())\n",
    "    degrees = pd.DataFrame.from_dict(degrees, orient=\"index\", columns=[\"degree\"])\n",
    "    degrees[\"coeditor\"] = degrees.index\n",
    "    degrees = degrees[[\"coeditor\", \"degree\"]]\n",
    "    degrees.sort_values(by=\"degree\", ascending=False, inplace=True)\n",
    "    # Display this as a formatted table    \n",
    "    display(HTML(degrees.head(10).to_html(index=False)))\n",
    "\n",
    "\n",
    "check_degrees(degrees)\n",
    "    "
   ]
  },
  {
   "cell_type": "markdown",
   "metadata": {},
   "source": [
    "This essentially shows that, while some editors _pairs_ have worked together particularly frequently (think Herman and Pelckman or Hasquin and Mortier above), they are not necessarily the ones who have engaged in the most co-editorships overall. Martin is clearly the person who has engaged in the most co-editor relationships (i.e., cumulated number of co-editors involved in all volumes he co-edited).   "
   ]
  },
  {
   "cell_type": "markdown",
   "metadata": {},
   "source": [
    "\n",
    "## For comparison: Gephi visualization\n",
    "\n",
    "See the [collaborations](collaborations.html) page. – NB! Note that the analysis and visualizations there are currently based on the data before reduction to unique book titles. "
   ]
  }
 ],
 "metadata": {
  "kernelspec": {
   "display_name": "Python 3 (ipykernel)",
   "language": "python",
   "name": "python3"
  },
  "language_info": {
   "codemirror_mode": {
    "name": "ipython",
    "version": 3
   },
   "file_extension": ".py",
   "mimetype": "text/x-python",
   "name": "python",
   "nbconvert_exporter": "python",
   "pygments_lexer": "ipython3",
   "version": "3.10.12"
  }
 },
 "nbformat": 4,
 "nbformat_minor": 2
}
