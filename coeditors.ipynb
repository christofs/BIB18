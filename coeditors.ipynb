{
 "cells": [
  {
   "cell_type": "markdown",
   "metadata": {},
   "source": [
    "# Co-editors\n",
    "\n",
    "This page focuses on co-editorship, especially of edited volumes, but including also editions, in the *Bibliographie*.   "
   ]
  },
  {
   "cell_type": "code",
   "execution_count": 2,
   "metadata": {},
   "outputs": [],
   "source": [
    "# === Imports === \n",
    "\n",
    "import re \n",
    "import seaborn as sns\n",
    "from matplotlib import pyplot as plt\n",
    "from os.path import join, abspath, normpath, realpath\n",
    "import os\n",
    "from lxml import etree\n",
    "from io import StringIO, BytesIO\n",
    "from collections import Counter\n",
    "import pandas as pd\n",
    "import netgraph\n",
    "import numpy as np\n",
    "from IPython.display import HTML, display   \n",
    "import networkx as nx\n",
    "from pyvis.network import Network \n",
    "import matplotlib.pyplot as plt\n",
    "\n",
    "\n",
    "# === Namespaces === \n",
    "\n",
    "namespaces = {\n",
    "    \"foaf\" : \"http://xmlns.com/foaf/0.1/\",\n",
    "    \"bib\" : \"http://purl.org/net/biblio#\",\n",
    "    \"dc\" : \"http://purl.org/dc/elements/1.1/\",\n",
    "    \"z\" : \"http://www.zotero.org/namespaces/export#\",\n",
    "    \"rdf\" : \"http://www.w3.org/1999/02/22-rdf-syntax-ns#\"\n",
    "    }\n",
    "\n",
    "\n",
    "# === Files and parameters === \n",
    "\n",
    "bibdatafile = join(\"data\", \"BIB18_Zotero-RDF_2024-01-02.rdf\") \n",
    "#bibdatafile = join(wdir, \"data\", \"BIB18_Zotero-RDF_TEST.rdf\") \n",
    "#graphviz_file = join(wdir, \"figures\", \"collaboration_coeditors-network.svg\") \n",
    "\n",
    "\n",
    "# === Load the dataset === \n",
    "\n",
    "def read_xml(bibdatafile): \n",
    "    bibdata = etree.parse(bibdatafile)\n",
    "    return bibdata\n",
    "\n",
    "bibdata = read_xml(bibdatafile)"
   ]
  },
  {
   "cell_type": "markdown",
   "metadata": {},
   "source": [
    "\n",
    "## Collecting all publications that have editors\n",
    "\n",
    "For the time being, only books (including editions) and book sections are considered. Multiple entries of the same edited volume are taken into account only once. This avoids an undue inflation of the number of cases of co-editorship in cases where multiple chapters from the same edited volume are present in the database. \n",
    "\n",
    "Note that there is a peculiar practice in the French publishing landscape, that of edited volumes that have been edited ('dirigé') by one or several people in collaboration with one or several other people ('avec la collaboration de'). The role of these latter collaborators, whether as scientific co-editors with a slightly lesser degree of responsibility than the main editor, or rather as editorial assistants, is not always clear. In addition, they are sometimes named on the front page, sometimes only in the front matter. Finally, this information is not represented clearly in the dataset at this point, so some caution is advised.  "
   ]
  },
  {
   "cell_type": "code",
   "execution_count": 3,
   "metadata": {
    "scrolled": true
   },
   "outputs": [
    {
     "name": "stdout",
     "output_type": "stream",
     "text": [
      "There are 14421 instances of element 'BookSection'.\n",
      "There are 23059 instances of element 'book'.\n",
      "Overall, there are 37480 publications included at this point.\n"
     ]
    }
   ],
   "source": [
    "def get_editordata(bibdata): \n",
    "    \"\"\"\n",
    "    Collects data on the titles and editors of all collected volumes for which the dataset includes book sections (like chapters).\n",
    "    Simplifies the data to just unique titles of collected volumes with their editors.\n",
    "    \"\"\"\n",
    "    # Find all instances of book chapters or book sections\n",
    "    xpath = \"//bib:BookSection\"\n",
    "    sections = bibdata.xpath(xpath, namespaces=namespaces)\n",
    "    print(\"There are \" + str(len(sections)) +  \" instances of element 'BookSection'.\")\n",
    "\n",
    "    # Also, find all instances of books mentioned as a whole and that have editors. \n",
    "    xpath = \"/rdf:RDF/bib:Book\"\n",
    "    books = bibdata.xpath(xpath, namespaces=namespaces)\n",
    "    print(\"There are \" + str(len(books)) +  \" instances of element 'book'.\")\n",
    "    sections.extend(books)\n",
    "    print(\"Overall, there are\", len(sections), \"publications included at this point.\")\n",
    "\n",
    "    # For each section (and each book), get the editor(s) and booktitle\n",
    "    editordata = {}\n",
    "    counter = 0\n",
    "    for item in sections[:]: \n",
    "        counter +=1\n",
    "        # Get the editors' last names\n",
    "        xpath = \".//bib:editors//foaf:surname//text()\"\n",
    "        editors_last = item.xpath(xpath, namespaces=namespaces)\n",
    "        editors_last = [editor for editor in editors_last if \"lacollaborationde\" not in editor]\n",
    "        # Get the editors' first names\n",
    "        xpath = \".//bib:editors//foaf:givenName//text()\"\n",
    "        editors_first = item.xpath(xpath, namespaces=namespaces)\n",
    "        editors_first = [editor for editor in editors_first if \"avec\" not in editor]\n",
    "        # Combine the names in a concise manner\n",
    "        editors = []\n",
    "        for last, first in zip(editors_last, editors_first):\n",
    "            full = last + \"_\" + first\n",
    "            editors.append(full)\n",
    "        # Get the book titles\n",
    "        xpath = \".//bib:Book/dc:title//text()\"\n",
    "        try: \n",
    "            booktitle = item.xpath(xpath, namespaces=namespaces)[0]\n",
    "        except: \n",
    "            booktitle = \"missing title number \" + str(counter)\n",
    "            #print(booktitle) # Only happens less than 10 times, it seems. \n",
    "        # Collect each booktitle only once; only last occurrence is kept (!)\n",
    "        if len(editors) > 0: \n",
    "            editordata[booktitle] = editors\n",
    "    # Check results \n",
    "    #print(\"All of the book sections mentioned above correspond to (only)\", len(editordata), \"different titles of edited volumes.\")\n",
    "    #ratio = np.round(np.divide(len(sections), len(editordata)),2)\n",
    "    #print(\"This means that, on average, an edited volume is mentioned\", ratio, \"times, each mention corresponding to one section of the volume being mentioned.\")\n",
    "\n",
    "    #for title,editors in editordata.items(): \n",
    "    #    print(editors,title)\n",
    "    return editordata\n",
    "editordata = get_editordata(bibdata)"
   ]
  },
  {
   "cell_type": "markdown",
   "metadata": {},
   "source": [
    "Note that many of the books don't have editors, because they are monographs. Also, many book sections correspond to different chapters from the same edited volume. Whenever that is the case, the books without editor are discarded and each edited volume is only considered once, in the next step. The total number of publications considered for the co-editor analysis is therefore substantially lower. \n"
   ]
  },
  {
   "cell_type": "markdown",
   "metadata": {},
   "source": [
    "## Prevalence of co-editor numbers \n",
    "\n",
    "Based on the data on book titles that have one or several editors, we can now investigate the prevalence of the different numbers of editors books typically have. The following table shows this data. "
   ]
  },
  {
   "cell_type": "code",
   "execution_count": 4,
   "metadata": {},
   "outputs": [
    {
     "data": {
      "text/html": [
       "<table border=\"1\" class=\"dataframe\">\n",
       "  <thead>\n",
       "    <tr style=\"text-align: right;\">\n",
       "      <th>number</th>\n",
       "      <th>count</th>\n",
       "      <th>percentage</th>\n",
       "    </tr>\n",
       "  </thead>\n",
       "  <tbody>\n",
       "    <tr>\n",
       "      <td>1</td>\n",
       "      <td>2730</td>\n",
       "      <td>39.8</td>\n",
       "    </tr>\n",
       "    <tr>\n",
       "      <td>2</td>\n",
       "      <td>2847</td>\n",
       "      <td>41.5</td>\n",
       "    </tr>\n",
       "    <tr>\n",
       "      <td>3</td>\n",
       "      <td>966</td>\n",
       "      <td>14.1</td>\n",
       "    </tr>\n",
       "    <tr>\n",
       "      <td>4</td>\n",
       "      <td>259</td>\n",
       "      <td>3.8</td>\n",
       "    </tr>\n",
       "    <tr>\n",
       "      <td>5</td>\n",
       "      <td>49</td>\n",
       "      <td>0.7</td>\n",
       "    </tr>\n",
       "    <tr>\n",
       "      <td>6</td>\n",
       "      <td>5</td>\n",
       "      <td>0.1</td>\n",
       "    </tr>\n",
       "    <tr>\n",
       "      <td>10</td>\n",
       "      <td>1</td>\n",
       "      <td>0.0</td>\n",
       "    </tr>\n",
       "  </tbody>\n",
       "</table>"
      ],
      "text/plain": [
       "<IPython.core.display.HTML object>"
      ]
     },
     "metadata": {},
     "output_type": "display_data"
    }
   ],
   "source": [
    "def get_coeditor_numbers(editordata): \n",
    "    \"\"\"\n",
    "    Based on the editordata, establish the number of times each number of co-editors appears, \n",
    "    as well as the corresponding percentages for each number of co-editors. \n",
    "    \"\"\"\n",
    "    coeditors = Counter([len(item) for item in editordata.values()])\n",
    "    coeditors = pd.DataFrame(pd.Series(coeditors, name=\"count\"))\n",
    "    #coeditors.drop(0, axis=0, inplace=True)\n",
    "\n",
    "    coeditors[\"percentage\"] = np.round(np.multiply(np.divide(coeditors[\"count\"], np.sum(coeditors[\"count\"])),100),1)\n",
    "    # Prettify the DataFrame\n",
    "    coeditors[\"number\"] = coeditors.index\n",
    "    coeditors = coeditors.sort_values(by=\"number\")\n",
    "    coeditors = coeditors[['number', 'count', 'percentage']]\n",
    "    display(HTML(coeditors.to_html(index=False)))\n",
    "    return coeditors\n",
    "coeditors = get_coeditor_numbers(editordata)"
   ]
  },
  {
   "cell_type": "markdown",
   "metadata": {},
   "source": [
    "The following visualization shows counts and percentages for different numbers of co-editors."
   ]
  },
  {
   "cell_type": "code",
   "execution_count": 5,
   "metadata": {},
   "outputs": [
    {
     "data": {
      "image/png": "[encoded data removed]",
      "text/plain": [
       "<Figure size 640x480 with 1 Axes>"
      ]
     },
     "metadata": {},
     "output_type": "display_data"
    }
   ],
   "source": [
    "def visualize_coeditor_numbers(coeditors): \n",
    "    \"\"\"\n",
    "    Create a simple bar plot that shows \n",
    "    the percentage of each number of co-editors in the dataset.\n",
    "    \"\"\"\n",
    "\n",
    "    coeditors = coeditors.iloc[:-1,:]\n",
    "    import seaborn.objects as so\n",
    "    (\n",
    "        so.Plot(data=coeditors, x=\"number\", y=\"count\", text=\"percentage\")\n",
    "        .add(so.Bar())\n",
    "        .add(so.Text(color=\"w\", valign=\"top\", offset=5))\n",
    "        .scale(x=so.Continuous().tick(every=1))\n",
    "        .label(\n",
    "            x=\"Number of co-editors\",\n",
    "            y=\"Counts (% shown as labels)\",\n",
    "            title = \"Counts and percentages of different number of co-editors\")\n",
    "        .save(\"figures/coeditor-percentages.svg\", dpi=300)\n",
    "        .show()\n",
    "    )\n",
    "visualize_coeditor_numbers(coeditors)"
   ]
  },
  {
   "cell_type": "markdown",
   "metadata": {},
   "source": [
    "Compared with the data on co-authorship (of books, articles and chapters), the figure above shows that co-editorship works quite differently. Indeed, when looking at editorship (of edited volumes or editions), joint editorship with two editors is the most common case (with almost 42% of the cases). Single editorship, however, is only slighly less widespread (at 39%). Triple co-editorship is also not uncommon, though clearly at a much lower level (at around 14%). \n",
    "\n",
    "It could be interesting to distinguish between editorship of edited volumes on the one hand, and textual editions, on the other hand. This is future work, because the dataset does not distinguish these two publication types at the moment. "
   ]
  },
  {
   "cell_type": "markdown",
   "metadata": {},
   "source": [
    "## Coeditor pairs\n",
    "\n",
    "This section looks at which people have frequently collaborated as editors of edited volumes and/or editions. The table below shows the 10 most active pairs of editors.\n"
   ]
  },
  {
   "cell_type": "code",
   "execution_count": 7,
   "metadata": {
    "scrolled": true
   },
   "outputs": [
    {
     "name": "stdout",
     "output_type": "stream",
     "text": [
      "Overall, 6857 publications with editors are considered here.\n",
      "Also, there are 7151 different editors represented in the data.\n",
      "Among all editors, 208 have been selected as the most active co-editors.\n",
      "In the following analysis, all editors they have collaborated with, however, are included.\n"
     ]
    },
    {
     "data": {
      "text/html": [
       "<table border=\"1\" class=\"dataframe\">\n",
       "  <thead>\n",
       "    <tr style=\"text-align: right;\">\n",
       "      <th>coeditor1</th>\n",
       "      <th>coeditor2</th>\n",
       "      <th>count</th>\n",
       "    </tr>\n",
       "  </thead>\n",
       "  <tbody>\n",
       "    <tr>\n",
       "      <td>Herman_Jan</td>\n",
       "      <td>Pelckmans_Paul</td>\n",
       "      <td>24</td>\n",
       "    </tr>\n",
       "    <tr>\n",
       "      <td>Hasquin_Hervé</td>\n",
       "      <td>Mortier_Roland</td>\n",
       "      <td>18</td>\n",
       "    </tr>\n",
       "    <tr>\n",
       "      <td>Biard_Michel</td>\n",
       "      <td>Leuwers_Hervé</td>\n",
       "      <td>12</td>\n",
       "    </tr>\n",
       "    <tr>\n",
       "      <td>Biard_Michel</td>\n",
       "      <td>Bourdin_Philippe</td>\n",
       "      <td>11</td>\n",
       "    </tr>\n",
       "    <tr>\n",
       "      <td>Berchtold_Jacques</td>\n",
       "      <td>Porret_Michel</td>\n",
       "      <td>9</td>\n",
       "    </tr>\n",
       "    <tr>\n",
       "      <td>Bourdin_Philippe</td>\n",
       "      <td>Leuwers_Hervé</td>\n",
       "      <td>8</td>\n",
       "    </tr>\n",
       "    <tr>\n",
       "      <td>Peeters_Kris</td>\n",
       "      <td>Pelckmans_Paul</td>\n",
       "      <td>8</td>\n",
       "    </tr>\n",
       "    <tr>\n",
       "      <td>Herman_Jan</td>\n",
       "      <td>Peeters_Kris</td>\n",
       "      <td>8</td>\n",
       "    </tr>\n",
       "    <tr>\n",
       "      <td>Didier_Béatrice</td>\n",
       "      <td>Neefs_Jacques</td>\n",
       "      <td>7</td>\n",
       "    </tr>\n",
       "    <tr>\n",
       "      <td>Berchtold_Jacques</td>\n",
       "      <td>Martin_Christophe</td>\n",
       "      <td>7</td>\n",
       "    </tr>\n",
       "  </tbody>\n",
       "</table>"
      ],
      "text/plain": [
       "<IPython.core.display.HTML object>"
      ]
     },
     "metadata": {},
     "output_type": "display_data"
    }
   ],
   "source": [
    "import warnings\n",
    "import pandas as pd\n",
    "from pandas.core.common import SettingWithCopyWarning\n",
    "warnings.simplefilter(action=\"ignore\", category=SettingWithCopyWarning)\n",
    "\n",
    "\n",
    "def get_recurring_coeditors(editordata, topn): \n",
    "    \"\"\"\n",
    "    Which people have frequently collaborated as editors? \n",
    "    This is based on the data collected above (editors of unique titles). \n",
    "    \"\"\"\n",
    "\n",
    "    # Define filenames for output. \n",
    "    coeditorcounts_top_file = join(\"results\", \"coeditor-counts_top.csv\")\n",
    "    coeditorcounts_full_file = join(\"results\", \"coeditor-counts_full.csv\")\n",
    "\n",
    "    # Get editor names from editordata. \n",
    "    coeditors = editordata.values()\n",
    "    print(\"Overall,\", len(coeditors), \"publications with editors are considered here.\")\n",
    "    coeditor_names = [item for sublist in coeditors for item in sublist]\n",
    "    print(\"Also, there are\", len(set(coeditor_names)) , \"different editors represented in the data.\")\n",
    "\n",
    "    # Establish the count of each collaboration between editors\n",
    "    import itertools \n",
    "    all_coeditor_combinations = []\n",
    "    for item in coeditors: \n",
    "        coeditor_combinations = list(itertools.combinations(item, 2))\n",
    "        coeditor_combinations = [tuple(sorted(item)) for item in coeditor_combinations]\n",
    "        for coedcomb in coeditor_combinations: \n",
    "            all_coeditor_combinations.append(coedcomb)\n",
    "    ccc = dict(Counter(all_coeditor_combinations)) # ccc = coeditor_combinations_count\n",
    "\n",
    "    # Transform to a DataFrame\n",
    "    ccc = pd.DataFrame.from_dict(ccc, orient=\"index\", columns=[\"count\"])\n",
    "    ccc = ccc.reset_index()\n",
    "    ccc_split = pd.DataFrame(ccc[\"index\"].tolist())\n",
    "    ccc_merged = ccc_split.merge(ccc, left_index=True, right_index=True)\n",
    "    ccc = ccc_merged.drop([\"index\"], axis=1)\n",
    "    ccc = ccc.rename({0 : \"coeditor1\", 1 : \"coeditor2\"}, axis=1)\n",
    "    ccc = ccc.sort_values(by=\"count\", ascending=False)\n",
    "    #print(ccc.head())\n",
    "    #print(ccc.shape, \"shape of dataframe\")\n",
    "    with open(join(coeditorcounts_full_file), \"w\", encoding=\"utf8\") as outfile: \n",
    "        ccc.to_csv(outfile, sep=\";\")\n",
    "\n",
    "    # Filter the DataFrame to make it manageable for visualization\n",
    "    # Determine the top N most frequent co-editors\n",
    "    coeditors_top = list(set(list(ccc.head(topn).loc[:,\"coeditor1\"]) +\\\n",
    "        list(ccc.head(topn).loc[:,\"coeditor2\"])))\n",
    "    #print(coeditors_top)\n",
    "    print(\"Among all editors, \" + str(len(coeditors_top)) + \" have been selected as the most active co-editors.\")\n",
    "    print(\"In the following analysis, all editors they have collaborated with, however, are included.\")\n",
    "    # Filter the DataFrame to include just the collaborations involving at least one of the top co-editors. \n",
    "    # The resulting DataFrame will have all collaborations between the top co-editors and their co-editors. \n",
    "    ccc_filtered = ccc[(ccc[\"coeditor1\"].isin(coeditors_top)) |\\\n",
    "                       (ccc[\"coeditor2\"].isin(coeditors_top))]\n",
    "    #print(ccc_filtered.shape, \"shape of dataframe of top co-editors and their co-editors.\")\n",
    "    # Simplify the labels \n",
    "    #ccc_filtered = ccc_filtered.replace(' .*?]', '',regex=True).astype(str)\n",
    "    ccc_filtered.loc[:,'coeditor1'] =  [re.sub(r', .*','', str(x)) for x in ccc_filtered.loc[:,'coeditor1']]\n",
    "    ccc_filtered.loc[:,'coeditor2'] =  [re.sub(r', .*','', str(x)) for x in ccc_filtered.loc[:,'coeditor2']]\n",
    "\n",
    "    # Display this as a formatted table    \n",
    "    display(HTML(ccc_filtered.head(10).to_html(index=False)))\n",
    "\n",
    "    # Save to disk \n",
    "    with open(join(coeditorcounts_top_file), \"w\", encoding=\"utf8\") as outfile: \n",
    "        ccc_filtered.to_csv(outfile, sep=\";\")\n",
    "    return ccc, ccc_filtered\n",
    "\n",
    "ccc, ccc_filtered = get_recurring_coeditors(editordata, topn=150)"
   ]
  },
  {
   "cell_type": "markdown",
   "metadata": {},
   "source": [
    "## Co-editor network\n",
    "\n",
    "Based on the frequency of co-editorships, it is possible to draw a network representation. \n",
    "\n",
    "The network visualization shows the editors as nodes, with their weighted degree determining the node size (the more publications they have edited with together with someone else, the larger the node). And it shows the intensity of their collaboration as the edges, with the number of coedited volumes determining the edge thickness (the more publications two editors have collaborated on, the thicker the line between them). The network layout aims to show groups of people who belong to a sub-network of co-editors who, as a group, work together frequently. "
   ]
  },
  {
   "cell_type": "code",
   "execution_count": 8,
   "metadata": {},
   "outputs": [
    {
     "name": "stdout",
     "output_type": "stream",
     "text": [
      "The network includes a total of 618 editors.\n",
      "figures/coeditor-network.html\n"
     ]
    }
   ],
   "source": [
    "def create_plot(ccc_filtered): \n",
    "    \"\"\" \n",
    "    Plot the co-editor data as a network using pyvis. \n",
    "    \"\"\"\n",
    "    # Prepare the dataset\n",
    "    cccf = ccc_filtered\n",
    "    cccf.rename(columns={\"count\": \"weight\"}, inplace=True)\n",
    "    cccf = cccf[cccf[\"weight\"] > 0] # for filtering, with \"0\", all items remain\n",
    "\n",
    "    # Load the data into a NetworkX graph\n",
    "    net = Network('1600px', '2800px', notebook=True, cdn_resources='in_line')\n",
    "    G = nx.Graph()\n",
    "    for line in cccf.iterrows(): \n",
    "        #print(line[1][0], end=\"\\n\")\n",
    "        G.add_edge(\n",
    "            # full names\n",
    "            line[1][0],\n",
    "            line[1][1],\n",
    "            # last names only\n",
    "            #re.split(\"_\", line[1][0])[0],\n",
    "            #re.split(\"_\", line[1][1])[0],\n",
    "            weight=line[1][2],\n",
    "            title=line[1][2],\n",
    "            )\n",
    "    degrees = dict(G.degree)\n",
    "    degrees.update((x, ((y*50)**0.5)) for x, y in degrees.items())\n",
    "    nx.set_node_attributes(G, degrees, 'size') \n",
    "    print(\"The network includes a total of\", str(nx.number_of_nodes(G)), \"editors.\")\n",
    "\n",
    "    # Plot the data using pyvis\n",
    "    net.from_nx(G)\n",
    "    net.toggle_physics(True)\n",
    "    net.show(\"figures/coeditor-network.html\")\n",
    "create_plot(ccc_filtered)\n"
   ]
  },
  {
   "cell_type": "markdown",
   "metadata": {},
   "source": [
    "This data can be visualized as a network. Click on the following image for an interactive network plot. \n",
    "\n",
    "When interpreting the data, please note that (a) the number of key editors selected and (b) the minimum number of collaborations are important parameters of this network. If all editors are included, and/or single collaborations are retained, the network becomes unwieldy (and the graph loads slowly). However, the number of sub-networks, and their degree of connectivity among each other, varies strongly when these parameters are modified. \n",
    "\n",
    "The current network uses a total of 618 editors (all 208 editors included in the top-150 editor pairs and all editors connected to them), and does not filter out any rarer collaborations. That's only around 10% of the total number of editors in the dataset, but at this setting, the network remains readable and already loads quite slowly. \n",
    "\n",
    "[![coeditor network](figures/coeditor-network_dummy.png)](figures/coeditor-network.html) "
   ]
  },
  {
   "cell_type": "markdown",
   "metadata": {},
   "source": [
    "The visualization shows, like the tabular display, that Herman and Pelckmans (with 24 co-edited volumes the collaborated on!) and Hasquins and Mortier (with 18 edited volumes) are the most intense collaborators in terms of co-editorship. \n",
    "\n",
    "More interestingly, however, the network visualisation shows that there are multiple, independent co-editor networks. Some are star-shaped and dominated by one editor working with many different co-editors (like the sub-networks around Grande or Seth). A few are dominated by a binary relationship (like the ones around Neefs and Didier, Hersant et Ramond, Plagnol-Diéval and Cook, or the one made up of Mortier and Hasquin). Others involve a triangular relationship (like the ones involving Herman, Pelckmans, Peeters; or the one with Bourdin, Biard, Leuwers). The unconnected sub-network formed by five co-editors (Bouvier, Brunat, Kohlhauer, Barthélémy, Clerc) is an interesting case of a small but tight and independent co-editor network. \n",
    "\n",
    "In addition, many of these sub-networks are loosely connected between each other, while others are entirely disconnected from the main network. And some co-editors serve as connections between several sub-networks. This depends the most, however, at least in my experience, on the number of editors considered and would be best analyzed statistically on the entire network by way of determining nodes with a high betweenness centrality (rather than degree centrality). "
   ]
  },
  {
   "cell_type": "markdown",
   "metadata": {},
   "source": [
    "## An additional look at the graph data\n",
    "\n",
    "Based on the data modeled as a graph, we can not only visualize it, but also extract some additional information. This is done here for the entire dataset, not just the top coeditors as in the visualization. \n"
   ]
  },
  {
   "cell_type": "markdown",
   "metadata": {},
   "source": [
    "This essentially shows that, while some _editor pairs_ have worked together particularly frequently (think Herman and Pelckman or Hasquin and Mortier above), they are not necessarily the ones who have engaged in the most co-editorships overall. Lüsebrink and Porret are clearly the people who have engaged in the most co-editor relationships (i.e., cumulated number of co-editors involved in all volumes they co-edited).   "
   ]
  },
  {
   "cell_type": "markdown",
   "metadata": {},
   "source": [
    "We can also check, as mentioned above, for betweenness centrality of the editors, in order to identify those editors (in the entire graph) that tend to connect otherwise weakly-connected sub-networks. "
   ]
  },
  {
   "cell_type": "code",
   "execution_count": 9,
   "metadata": {},
   "outputs": [
    {
     "name": "stdout",
     "output_type": "stream",
     "text": [
      "Number of editors included in this Graph: 5857.\n"
     ]
    }
   ],
   "source": [
    "def calculate_measures(ccc): \n",
    "\n",
    "    # Prepare the dataset\n",
    "    ccc.rename(columns={\"count\": \"weight\"}, inplace=True)\n",
    "    ccc = ccc[ccc[\"weight\"] > 0] # for filtering (0 is slow but complete)\n",
    "\n",
    "    # Load the data into a NetworkX graph\n",
    "    G = nx.Graph()\n",
    "    for line in ccc.iterrows(): \n",
    "        G.add_edge(\n",
    "            line[1][0],\n",
    "            line[1][1],\n",
    "            weight=line[1][2],\n",
    "            )\n",
    "    print(\"Number of editors included in this Graph: \" + str(nx.number_of_nodes(G)) + \".\")\n",
    "\n",
    "    # Get the degrees\n",
    "    dg = dict(G.degree)\n",
    "\n",
    "    # Get the betweenness centralities\n",
    "    # See: https://networkx.org/documentation/stable/reference/algorithms/generated/networkx.algorithms.centrality.betweenness_centrality.html\n",
    "    bc = nx.betweenness_centrality(\n",
    "        G,\n",
    "        k=None,\n",
    "        normalized=True,\n",
    "        weight=None,\n",
    "        endpoints=False,\n",
    "        seed=None\n",
    "        )\n",
    "\n",
    "    # Get eigenvector centrality\n",
    "    ec = nx.eigenvector_centrality(\n",
    "        G,\n",
    "        max_iter=100,\n",
    "        tol=1e-03\n",
    "        )\n",
    "    \n",
    "    # Merge results into a dataframe\n",
    "    dg = pd.DataFrame.from_dict(dg, orient=\"index\", columns=[\"degree\"])\n",
    "    dg[\"coeditor\"] = dg.index\n",
    "    bc = pd.DataFrame.from_dict(bc, orient=\"index\", columns=[\"betweenness\"])\n",
    "    bc[\"coeditor\"] = bc.index\n",
    "    ec = pd.DataFrame.from_dict(ec, orient=\"index\", columns=[\"eigenvector\"])\n",
    "    ec[\"coeditor\"] = ec.index\n",
    "    #measures = dg.merge(ec, how=\"inner\", on=\"coeditor\")\n",
    "    measures = dg.merge(bc, on='coeditor').merge(ec,on='coeditor')\n",
    "    measures = measures[[\"coeditor\", \"degree\", \"betweenness\", \"eigenvector\"]]\n",
    "\n",
    "    return measures\n",
    "measures = calculate_measures(ccc)"
   ]
  },
  {
   "cell_type": "markdown",
   "metadata": {},
   "source": [
    "Now we can look at the various graph measures calculated above on the entire network of editors. \n",
    "\n",
    "First, the editors with the highes value for degree (number of connections). This describes the total number of co-editorships a given person has engaged in. "
   ]
  },
  {
   "cell_type": "code",
   "execution_count": 10,
   "metadata": {},
   "outputs": [
    {
     "data": {
      "text/html": [
       "<table border=\"1\" class=\"dataframe\">\n",
       "  <thead>\n",
       "    <tr style=\"text-align: right;\">\n",
       "      <th>coeditor</th>\n",
       "      <th>degree</th>\n",
       "    </tr>\n",
       "  </thead>\n",
       "  <tbody>\n",
       "    <tr>\n",
       "      <td>Lüsebrink_Hans-Jürgen</td>\n",
       "      <td>23</td>\n",
       "    </tr>\n",
       "    <tr>\n",
       "      <td>Porret_Michel</td>\n",
       "      <td>22</td>\n",
       "    </tr>\n",
       "    <tr>\n",
       "      <td>Delon_Michel</td>\n",
       "      <td>18</td>\n",
       "    </tr>\n",
       "    <tr>\n",
       "      <td>Bourdin_Philippe</td>\n",
       "      <td>18</td>\n",
       "    </tr>\n",
       "    <tr>\n",
       "      <td>Berchtold_Jacques</td>\n",
       "      <td>18</td>\n",
       "    </tr>\n",
       "    <tr>\n",
       "      <td>Seth_Catriona</td>\n",
       "      <td>18</td>\n",
       "    </tr>\n",
       "    <tr>\n",
       "      <td>Paganini_Gianni</td>\n",
       "      <td>17</td>\n",
       "    </tr>\n",
       "    <tr>\n",
       "      <td>Leuwers_Hervé</td>\n",
       "      <td>17</td>\n",
       "    </tr>\n",
       "    <tr>\n",
       "      <td>Bertrand_Gilles</td>\n",
       "      <td>15</td>\n",
       "    </tr>\n",
       "    <tr>\n",
       "      <td>Moureau_François</td>\n",
       "      <td>15</td>\n",
       "    </tr>\n",
       "    <tr>\n",
       "      <td>Sermain_Jean-Paul</td>\n",
       "      <td>14</td>\n",
       "    </tr>\n",
       "    <tr>\n",
       "      <td>Biard_Michel</td>\n",
       "      <td>14</td>\n",
       "    </tr>\n",
       "    <tr>\n",
       "      <td>Lotterie_Florence</td>\n",
       "      <td>14</td>\n",
       "    </tr>\n",
       "    <tr>\n",
       "      <td>Hébert_Pierre</td>\n",
       "      <td>13</td>\n",
       "    </tr>\n",
       "    <tr>\n",
       "      <td>Herman_Jan</td>\n",
       "      <td>13</td>\n",
       "    </tr>\n",
       "  </tbody>\n",
       "</table>"
      ],
      "text/plain": [
       "<IPython.core.display.HTML object>"
      ]
     },
     "metadata": {},
     "output_type": "display_data"
    }
   ],
   "source": [
    "def show_degree(measures): \n",
    "    measures.sort_values(by=\"degree\", ascending=False, inplace=True)\n",
    "    degree = measures.drop([\"betweenness\", \"eigenvector\"], axis=1, inplace=False)\n",
    "    display(HTML(degree.head(15).to_html(index=False)))\n",
    "show_degree(measures)\n"
   ]
  },
  {
   "cell_type": "markdown",
   "metadata": {},
   "source": [
    "Similarly, we can look at the betweenness centrality. This is a measure that describes how much an editor acts as a connection between various subnetworks. \"Betweenness centrality quantifies the number of times a node acts as a bridge along the shortest path between two other nodes\", as per Wikipedia.  "
   ]
  },
  {
   "cell_type": "code",
   "execution_count": 11,
   "metadata": {},
   "outputs": [
    {
     "data": {
      "text/html": [
       "<table border=\"1\" class=\"dataframe\">\n",
       "  <thead>\n",
       "    <tr style=\"text-align: right;\">\n",
       "      <th>coeditor</th>\n",
       "      <th>degree</th>\n",
       "      <th>betweenness</th>\n",
       "    </tr>\n",
       "  </thead>\n",
       "  <tbody>\n",
       "    <tr>\n",
       "      <td>Porret_Michel</td>\n",
       "      <td>22</td>\n",
       "      <td>0.010365</td>\n",
       "    </tr>\n",
       "    <tr>\n",
       "      <td>Berchtold_Jacques</td>\n",
       "      <td>18</td>\n",
       "      <td>0.009650</td>\n",
       "    </tr>\n",
       "    <tr>\n",
       "      <td>Seth_Catriona</td>\n",
       "      <td>18</td>\n",
       "      <td>0.009246</td>\n",
       "    </tr>\n",
       "    <tr>\n",
       "      <td>Bernier_Marc André</td>\n",
       "      <td>11</td>\n",
       "      <td>0.008750</td>\n",
       "    </tr>\n",
       "    <tr>\n",
       "      <td>Delon_Michel</td>\n",
       "      <td>18</td>\n",
       "      <td>0.006522</td>\n",
       "    </tr>\n",
       "    <tr>\n",
       "      <td>Moureau_François</td>\n",
       "      <td>15</td>\n",
       "      <td>0.005221</td>\n",
       "    </tr>\n",
       "    <tr>\n",
       "      <td>Volpilhac-Auger_Catherine</td>\n",
       "      <td>11</td>\n",
       "      <td>0.004951</td>\n",
       "    </tr>\n",
       "    <tr>\n",
       "      <td>Lotterie_Florence</td>\n",
       "      <td>14</td>\n",
       "      <td>0.004941</td>\n",
       "    </tr>\n",
       "    <tr>\n",
       "      <td>Hersant_Marc</td>\n",
       "      <td>11</td>\n",
       "      <td>0.004284</td>\n",
       "    </tr>\n",
       "    <tr>\n",
       "      <td>Plagnol-Diéval_Marie-Emmanuelle</td>\n",
       "      <td>11</td>\n",
       "      <td>0.004219</td>\n",
       "    </tr>\n",
       "    <tr>\n",
       "      <td>Mondot_Jean</td>\n",
       "      <td>10</td>\n",
       "      <td>0.004156</td>\n",
       "    </tr>\n",
       "    <tr>\n",
       "      <td>Krief_Huguette</td>\n",
       "      <td>8</td>\n",
       "      <td>0.004055</td>\n",
       "    </tr>\n",
       "    <tr>\n",
       "      <td>Vasak_Anouchka</td>\n",
       "      <td>5</td>\n",
       "      <td>0.004007</td>\n",
       "    </tr>\n",
       "    <tr>\n",
       "      <td>Lüsebrink_Hans-Jürgen</td>\n",
       "      <td>23</td>\n",
       "      <td>0.003794</td>\n",
       "    </tr>\n",
       "    <tr>\n",
       "      <td>Poirson_Martial</td>\n",
       "      <td>11</td>\n",
       "      <td>0.003758</td>\n",
       "    </tr>\n",
       "  </tbody>\n",
       "</table>"
      ],
      "text/plain": [
       "<IPython.core.display.HTML object>"
      ]
     },
     "metadata": {},
     "output_type": "display_data"
    }
   ],
   "source": [
    "def show_betweenness(measures): \n",
    "    measures.sort_values(by=\"betweenness\", ascending=False, inplace=True)\n",
    "    betweenness = measures.drop([\"eigenvector\"], axis=1, inplace=False)\n",
    "    display(HTML(betweenness.head(15).to_html(index=False)))\n",
    "show_betweenness(measures)"
   ]
  },
  {
   "cell_type": "markdown",
   "metadata": {},
   "source": [
    "Finally, we can look at eigenvector centrality, a measure of influence in a network. "
   ]
  },
  {
   "cell_type": "code",
   "execution_count": 12,
   "metadata": {},
   "outputs": [
    {
     "data": {
      "text/html": [
       "<table border=\"1\" class=\"dataframe\">\n",
       "  <thead>\n",
       "    <tr style=\"text-align: right;\">\n",
       "      <th>coeditor</th>\n",
       "      <th>degree</th>\n",
       "      <th>eigenvector</th>\n",
       "    </tr>\n",
       "  </thead>\n",
       "  <tbody>\n",
       "    <tr>\n",
       "      <td>Hébert_Pierre</td>\n",
       "      <td>13</td>\n",
       "      <td>0.257840</td>\n",
       "    </tr>\n",
       "    <tr>\n",
       "      <td>Luneau_Marie-Pier</td>\n",
       "      <td>12</td>\n",
       "      <td>0.252006</td>\n",
       "    </tr>\n",
       "    <tr>\n",
       "      <td>Michon_Jacques</td>\n",
       "      <td>10</td>\n",
       "      <td>0.250391</td>\n",
       "    </tr>\n",
       "    <tr>\n",
       "      <td>Brisson_Frédéric</td>\n",
       "      <td>9</td>\n",
       "      <td>0.243162</td>\n",
       "    </tr>\n",
       "    <tr>\n",
       "      <td>Godbout_Patricia</td>\n",
       "      <td>9</td>\n",
       "      <td>0.243162</td>\n",
       "    </tr>\n",
       "    <tr>\n",
       "      <td>Mylène Fréchette_Fanie St-Laurent</td>\n",
       "      <td>9</td>\n",
       "      <td>0.243162</td>\n",
       "    </tr>\n",
       "    <tr>\n",
       "      <td>Vincent_Josée</td>\n",
       "      <td>9</td>\n",
       "      <td>0.243162</td>\n",
       "    </tr>\n",
       "    <tr>\n",
       "      <td>Drouin_de Sophie</td>\n",
       "      <td>9</td>\n",
       "      <td>0.243162</td>\n",
       "    </tr>\n",
       "    <tr>\n",
       "      <td>Marcel Lajeunesse_Éric Leroux</td>\n",
       "      <td>9</td>\n",
       "      <td>0.243162</td>\n",
       "    </tr>\n",
       "    <tr>\n",
       "      <td>Pouliot_Suzanne</td>\n",
       "      <td>9</td>\n",
       "      <td>0.243162</td>\n",
       "    </tr>\n",
       "    <tr>\n",
       "      <td>Biard_Michel</td>\n",
       "      <td>14</td>\n",
       "      <td>0.153647</td>\n",
       "    </tr>\n",
       "    <tr>\n",
       "      <td>Leuwers_Hervé</td>\n",
       "      <td>17</td>\n",
       "      <td>0.146392</td>\n",
       "    </tr>\n",
       "    <tr>\n",
       "      <td>Bourdin_Philippe</td>\n",
       "      <td>18</td>\n",
       "      <td>0.144208</td>\n",
       "    </tr>\n",
       "    <tr>\n",
       "      <td>Porret_Michel</td>\n",
       "      <td>22</td>\n",
       "      <td>0.119891</td>\n",
       "    </tr>\n",
       "    <tr>\n",
       "      <td>Serna_Pierre</td>\n",
       "      <td>10</td>\n",
       "      <td>0.116381</td>\n",
       "    </tr>\n",
       "  </tbody>\n",
       "</table>"
      ],
      "text/plain": [
       "<IPython.core.display.HTML object>"
      ]
     },
     "metadata": {},
     "output_type": "display_data"
    }
   ],
   "source": [
    "def show_eigenvector(measures): \n",
    "    measures.sort_values(by=\"eigenvector\", ascending=False, inplace=True)\n",
    "    eigenvector = measures.drop([\"betweenness\"], axis=1, inplace=False)\n",
    "    display(HTML(eigenvector.head(15).to_html(index=False)))\n",
    "show_eigenvector(measures)"
   ]
  },
  {
   "cell_type": "markdown",
   "metadata": {},
   "source": [
    "The eigenvector centrality is interesting because it surfaces editors who do not necessarily have very high degree or betweenness centrality scores, like Pierre Hébert. It remains to be seen what exactly this says about them!"
   ]
  }
 ],
 "metadata": {
  "kernelspec": {
   "display_name": "Python 3 (ipykernel)",
   "language": "python",
   "name": "python3"
  },
  "language_info": {
   "codemirror_mode": {
    "name": "ipython",
    "version": 3
   },
   "file_extension": ".py",
   "mimetype": "text/x-python",
   "name": "python",
   "nbconvert_exporter": "python",
   "pygments_lexer": "ipython3",
   "version": "3.10.12"
  }
 },
 "nbformat": 4,
 "nbformat_minor": 2
}
