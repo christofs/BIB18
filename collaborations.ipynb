{
 "cells": [
  {
   "attachments": {},
   "cell_type": "markdown",
   "metadata": {},
   "source": [
    "# Collaborations\n",
    "\n",
    "This page focuses on aspects of collaboration, like co-authorship or co-editorship, in the *Bibliographie sur le XVIIIe siècle*. "
   ]
  },
  {
   "cell_type": "code",
   "execution_count": 5,
   "metadata": {},
   "outputs": [
    {
     "name": "stdout",
     "output_type": "stream",
     "text": [
      "/media/christof/Data/Github/christofs/BIB18\n",
      "/media/christof/Data/Github/christofs/BIB18/data/BIB18_Zotero-RDF.rdf\n"
     ]
    }
   ],
   "source": [
    "# === Imports === \n",
    "\n",
    "import re \n",
    "import seaborn as sns\n",
    "from matplotlib import pyplot as plt\n",
    "from os.path import join, abspath, normpath, realpath\n",
    "import os\n",
    "from lxml import etree\n",
    "from io import StringIO, BytesIO\n",
    "from collections import Counter\n",
    "import pandas as pd\n",
    "\n",
    "# === Namespaces === \n",
    "\n",
    "namespaces = {\n",
    "    \"foaf\" : \"http://xmlns.com/foaf/0.1/\",\n",
    "    \"bib\" : \"http://purl.org/net/biblio#\",\n",
    "    \"dc\" : \"http://purl.org/dc/elements/1.1/\",\n",
    "    \"z\" : \"http://www.zotero.org/namespaces/export#\",\n",
    "    \"rdf\" : \"http://www.w3.org/1999/02/22-rdf-syntax-ns#\"\n",
    "    }\n",
    "\n",
    "# === Files and parameters === \n",
    "\n",
    "wdir = join(\"/\", \"media\", \"christof\", \"Data\", \"Github\", \"christofs\", \"BIB18\")\n",
    "print(wdir)\n",
    "bibdatafile = join(wdir, \"data\", \"BIB18_Zotero-RDF.rdf\") \n",
    "print(bibdatafile)\n",
    "#bibdatafile = join(wdir, \"data\", \"BIB18_Zotero-RDF_TEST.rdf\") "
   ]
  },
  {
   "cell_type": "code",
   "execution_count": 6,
   "metadata": {},
   "outputs": [],
   "source": [
    "def read_xml(bibdatafile): \n",
    "    bibdata = etree.parse(bibdatafile)\n",
    "    return bibdata\n",
    "\n",
    "bibdata = read_xml(bibdatafile)"
   ]
  },
  {
   "attachments": {},
   "cell_type": "markdown",
   "metadata": {},
   "source": [
    "## Number of collaborators\n",
    "\n",
    "This part determines how frequent collaborations (co-authorship, co-editorship) are. This is based on the number of \"Person\" elements within the \"authors\" or \"editors\" element."
   ]
  },
  {
   "cell_type": "code",
   "execution_count": 7,
   "metadata": {},
   "outputs": [
    {
     "name": "stdout",
     "output_type": "stream",
     "text": [
      "\n",
      "Number of collaborations with specific number of collaborators.\n",
      "56860 instances of Element 'authors'\n",
      "Counter({1: 53488, 2: 3361, 3: 9, 4: 2})\n",
      "{1: '94.07%', 2: '5.911%', 3: '0.016%', 4: '0.004%'}\n",
      "17135 instances of Element 'editors'\n",
      "{1: 5558, 4: 904, 3: 2638, 2: 7743, 5: 256, 6: 35, 11: 1}\n",
      "{1: '32.44%', 4: '5.28%', 3: '15.4%', 2: '45.19%', 5: '1.49%', 6: '0.2%', 11: '0.01%'}\n"
     ]
    }
   ],
   "source": [
    "def get_number_collaborators(bibdata): \n",
    "    \"\"\"\n",
    "    Finds out how frequent collaborations (co-authorship, co-editorship) are.\n",
    "    Number of \"Person\" elements within \"authors\" or \"editors\" element. \n",
    "    \"\"\"\n",
    "    print(\"\\nNumber of collaborations with specific number of collaborators.\")\n",
    "\n",
    "    # Find all instances of authors\n",
    "    num_coauthors = []\n",
    "    xpath = \"//bib:authors\"\n",
    "    authors = bibdata.xpath(xpath, namespaces=namespaces)\n",
    "    print(len(authors), \"instances of Element 'authors'\")\n",
    "    num_coauthors = []\n",
    "    for item in authors:\n",
    "        #print(item)\n",
    "        xpath = \"rdf:Seq/rdf:li/foaf:Person\"\n",
    "        coauthors = item.xpath(xpath, namespaces=namespaces)\n",
    "        num_coauthors.append(len(coauthors))\n",
    "    num_coauthors_counts = Counter(num_coauthors)\n",
    "    print(num_coauthors_counts)\n",
    "\n",
    "    # Calculate percentages\n",
    "    num_coauthors_perc = {}\n",
    "    total = sum(num_coauthors_counts.values())\n",
    "    for key,val in num_coauthors_counts.items():\n",
    "        num_coauthors_perc[key] = str(round(val/total * 100, 3)) + '%'\n",
    "    print(num_coauthors_perc)\n",
    "\n",
    "    # Find all instances of editors\n",
    "    num_coeditors = []\n",
    "    xpath = \"//bib:editors\"\n",
    "    editors = bibdata.xpath(xpath, namespaces=namespaces)\n",
    "    print(len(editors), \"instances of Element 'editors'\")\n",
    "    num_coeditors = []\n",
    "    for item in editors:\n",
    "        xpath = \"rdf:Seq/rdf:li/foaf:Person\"\n",
    "        coeditors = item.xpath(xpath, namespaces=namespaces)\n",
    "        num_coeditors.append(len(coeditors))\n",
    "    num_coeditors_counts = Counter(num_coeditors)\n",
    "    print(dict(num_coeditors_counts))\n",
    "\n",
    "    # Calculate percentages\n",
    "    num_coeditors_perc = {}\n",
    "    total = sum(num_coeditors_counts.values())\n",
    "    for key,val in num_coeditors_counts.items():\n",
    "        num_coeditors_perc[key] = str(round(val/total * 100, 2)) + '%'\n",
    "    print(num_coeditors_perc)\n",
    "\n",
    "get_number_collaborators(bibdata)"
   ]
  },
  {
   "attachments": {},
   "cell_type": "markdown",
   "metadata": {},
   "source": [
    "## Collaborator networks\n",
    "\n",
    "Builds the data for a network of people having collaborated as editors."
   ]
  },
  {
   "cell_type": "code",
   "execution_count": 20,
   "metadata": {},
   "outputs": [
    {
     "name": "stdout",
     "output_type": "stream",
     "text": [
      "There are 17135 editors (i.e., instances of Element 'editors').\n",
      "Among all editors, 20 have been selected as the most active co-editors.\n",
      "The following table shows the 5 most active pairs of editors.\n",
      "\n",
      "         coeditor1  coeditor2  count\n",
      "1848        Herman  Pelckmans    221\n",
      "3896       Hasquin    Mortier    103\n",
      "2546  Ferreyrolles    Versini     84\n",
      "184          Biard    Leuwers     78\n",
      "183          Biard    Bourdin     64\n"
     ]
    },
    {
     "name": "stderr",
     "output_type": "stream",
     "text": [
      "/tmp/ipykernel_18698/3208639142.py:62: SettingWithCopyWarning: \n",
      "A value is trying to be set on a copy of a slice from a DataFrame.\n",
      "Try using .loc[row_indexer,col_indexer] = value instead\n",
      "\n",
      "See the caveats in the documentation: https://pandas.pydata.org/pandas-docs/stable/user_guide/indexing.html#returning-a-view-versus-a-copy\n",
      "  ccc_filtered.loc[:,'coeditor1'] =  [re.sub(r', .*','', str(x)) for x in ccc_filtered.loc[:,'coeditor1']]\n",
      "/tmp/ipykernel_18698/3208639142.py:63: SettingWithCopyWarning: \n",
      "A value is trying to be set on a copy of a slice from a DataFrame.\n",
      "Try using .loc[row_indexer,col_indexer] = value instead\n",
      "\n",
      "See the caveats in the documentation: https://pandas.pydata.org/pandas-docs/stable/user_guide/indexing.html#returning-a-view-versus-a-copy\n",
      "  ccc_filtered.loc[:,'coeditor2'] =  [re.sub(r', .*','', str(x)) for x in ccc_filtered.loc[:,'coeditor2']]\n"
     ]
    }
   ],
   "source": [
    "coeditorcounts_top_file = join(wdir, \"results\", \"coeditor-counts_top.csv\")\n",
    "coeditorcounts_full_file = join(wdir, \"results\", \"coeditor-counts_full.csv\")\n",
    "\n",
    "\n",
    "def network_coeditors(bibdata): \n",
    "    \"\"\"\n",
    "    Builds the data for a network of people having collaborated as editors. \n",
    "    \"\"\"\n",
    "    # Find all instances of editors\n",
    "    xpath = \"//bib:editors\"\n",
    "    editors = bibdata.xpath(xpath, namespaces=namespaces)\n",
    "    print(\"There are \" + str(len(editors)) + \" editors (i.e., instances of Element 'editors').\")\n",
    "\n",
    "    # Collect the names of each person within each editors element\n",
    "    coeditors = []\n",
    "    for item in editors:\n",
    "        xpath = \"rdf:Seq/rdf:li/foaf:Person\"\n",
    "        coeditors_elements = item.xpath(xpath, namespaces=namespaces)\n",
    "        coeditors_names = []\n",
    "        # Get the names (full name or first name, last name) from each person\n",
    "        for item in coeditors_elements: \n",
    "            if len(item) == 2: \n",
    "                coeditors_names.append(item[0].text + \", \" + item[1].text)\n",
    "        coeditors.append(coeditors_names)\n",
    "\n",
    "    # Establish the count of each collaboration between editors\n",
    "    import itertools \n",
    "    all_coeditor_combinations = []\n",
    "    for item in coeditors: \n",
    "        coeditor_combinations = list(itertools.combinations(item, 2))\n",
    "        coeditor_combinations = [tuple(sorted(item)) for item in coeditor_combinations]\n",
    "        for coedcomb in coeditor_combinations: \n",
    "            all_coeditor_combinations.append(coedcomb)\n",
    "    ccc = dict(Counter(all_coeditor_combinations)) # ccc = coeditor_combinations_count\n",
    "\n",
    "    # Transform to a DataFrame\n",
    "    ccc = pd.DataFrame.from_dict(ccc, orient=\"index\", columns=[\"count\"])\n",
    "    ccc = ccc.reset_index()\n",
    "    ccc_split = pd.DataFrame(ccc[\"index\"].tolist())\n",
    "    ccc_merged = ccc_split.merge(ccc, left_index=True, right_index=True)\n",
    "    ccc = ccc_merged.drop([\"index\"], axis=1)\n",
    "    ccc = ccc.rename({0 : \"coeditor1\", 1 : \"coeditor2\"}, axis=1)\n",
    "    ccc = ccc.sort_values(by=\"count\", ascending=False)\n",
    "    #print(ccc.head())\n",
    "    #print(ccc.shape, \"shape of dataframe\")\n",
    "    with open(join(coeditorcounts_full_file), \"w\", encoding=\"utf8\") as outfile: \n",
    "        ccc.to_csv(outfile, sep=\";\")\n",
    "\n",
    "    # Filter the DataFrame to make it manageable for visualization\n",
    "    # Determine the top N most frequent co-editors\n",
    "    coeditors_top = list(set(list(ccc.head(20).loc[:,\"coeditor1\"]) +\\\n",
    "        list(ccc.head(20).loc[:,\"coeditor2\"])))\n",
    "    #print(coeditors_top)\n",
    "    print(\"Among all editors, \" + str(len(coeditors_top)) + \" have been selected as the most active co-editors.\")\n",
    "    # Filter the DataFrame to include just the collaborations involving at least one of the top co-editors. \n",
    "    # The resulting DataFrame will have all collaborations between the top co-editors and their co-editors. \n",
    "    ccc_filtered = ccc[(ccc[\"coeditor1\"].isin(coeditors_top)) |\\\n",
    "                       (ccc[\"coeditor2\"].isin(coeditors_top))]\n",
    "    #print(ccc_filtered.shape, \"shape of dataframe of top co-editors and their co-editors.\")\n",
    "    # Simplify the labels \n",
    "    #ccc_filtered = ccc_filtered.replace(' .*?]', '',regex=True).astype(str)\n",
    "    ccc_filtered.loc[:,'coeditor1'] =  [re.sub(r', .*','', str(x)) for x in ccc_filtered.loc[:,'coeditor1']]\n",
    "    ccc_filtered.loc[:,'coeditor2'] =  [re.sub(r', .*','', str(x)) for x in ccc_filtered.loc[:,'coeditor2']]\n",
    "    print(\"The following table shows the 5 most active pairs of editors.\\n\")\n",
    "    print(ccc_filtered.head())\n",
    "    with open(join(coeditorcounts_top_file), \"w\", encoding=\"utf8\") as outfile: \n",
    "        ccc_filtered.to_csv(outfile, sep=\";\")\n",
    "\n",
    "network_coeditors(bibdata)"
   ]
  },
  {
   "attachments": {},
   "cell_type": "markdown",
   "metadata": {},
   "source": [
    "## Co-editor networks \n",
    "\n",
    "As shown above, editorship is an area of particularly intense collaboration in the community of Dix-huitiémistes, based on the data in the bibliography. The following is an initial, experimental attempt to elucidate the data using network visualization. \n",
    "\n",
    "The following shows a network of the top 20 co-editors and all of their co-editors, resulting in 148 different co-editor pairs. Each node is one editor, and each time two people have co-edited a publication, a link between them is created. The more co-editorships a person accumulates, the larger the node. The more co-editorships two people share, the thicker the edge connecting them. For this visualization, the full data of collaborations for edited volumes and editions has been massively reduced. Different parameters may strongly affect the results. See the full coeditor data in the `data` folder for more details.  \n",
    "\n",
    "![Network showing the top 20 co-editors and all of their co-editors, created using Gephi.](figures/coeditors_top2.svg)\n",
    "\n",
    "This figure is available also as a [zoom-able image file](/figures/coeditors_top2.svg) and [with somewhat friendlier colors but no community detection](/figures/coeditors_top1.svg).  \n",
    "\n",
    "We basically see three key co-editor networks (the different colors are based on an algorithmic community or cluster detection): \n",
    "\n",
    "- Porret, Rosset, Majeur, Farkas, Baczko et al. \n",
    "- Sermain, Herman, Pelckmans, Escola, Omacini, Peeters, Paschoud, Berchtold et al. \n",
    "- Leuwers, Bourdin, Biard, Simien, Serna, Antoine et al. \n",
    "- Smaller clusters with Didier and Neefs as well around Kolving and Mortier. \n",
    "\n",
    "Some initial observations: While Porret appears to be the most productive co-editor overall, this is achived with some frequent, but also with a large number of less frequent coeditors. Inversely, the most intense collaboration appears to be between Herman and Pelckmans, who seem to avoid one-off collaborations. Finally, Rosset also functions as a bridge linking Porret and Baczko on the one hand, and Herman and Pelckmans on the other hand, and their respective coeditor networks. No similar bridge exists towards the Leuwers et al. network. The smaller Didier cluster is also connected to Sermain.  \n"
   ]
  }
 ],
 "metadata": {
  "kernelspec": {
   "display_name": "Python 3",
   "language": "python",
   "name": "python3"
  },
  "language_info": {
   "codemirror_mode": {
    "name": "ipython",
    "version": 3
   },
   "file_extension": ".py",
   "mimetype": "text/x-python",
   "name": "python",
   "nbconvert_exporter": "python",
   "pygments_lexer": "ipython3",
   "version": "3.10.6"
  },
  "orig_nbformat": 4
 },
 "nbformat": 4,
 "nbformat_minor": 2
}
