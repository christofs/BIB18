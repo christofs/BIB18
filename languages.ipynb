{
 "cells": [
  {
   "attachments": {},
   "cell_type": "markdown",
   "metadata": {},
   "source": [
    "# Languages"
   ]
  },
  {
   "attachments": {},
   "cell_type": "markdown",
   "metadata": {},
   "source": [
    "## Distribution of languages in the dataset \n",
    "\n",
    "There are 64396 instances of the `language` element in the dataset. For the moment, only 8 different languages have been identified, although there are no doubt more languages represented in the dataset. (These will be added with further refinement of the data.) \n",
    "\n",
    "![](figures/languages_counts.png)\n",
    "\n",
    "Few surprises in the major languages so far: French reigns supreme, before English, with Italian, German and Spanish quite a bit behind. \n",
    "\n"
   ]
  }
 ],
 "metadata": {
  "language_info": {
   "name": "python"
  },
  "orig_nbformat": 4
 },
 "nbformat": 4,
 "nbformat_minor": 2
}
