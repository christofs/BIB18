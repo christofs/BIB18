{
 "cells": [
  {
   "attachments": {},
   "cell_type": "markdown",
   "metadata": {},
   "source": [
    "# Languages\n",
    "\n",
    "This section provides some analyses of the languages of publications referenced in the *Bibliographie*.     "
   ]
  },
  {
   "cell_type": "code",
   "execution_count": 1,
   "metadata": {},
   "outputs": [],
   "source": [
    "# === Imports === \n",
    "\n",
    "import re \n",
    "import seaborn as sns\n",
    "from matplotlib import pyplot as plt\n",
    "from os.path import join\n",
    "from os.path import realpath, dirname\n",
    "import os\n",
    "from lxml import etree\n",
    "from io import StringIO, BytesIO\n",
    "from collections import Counter\n",
    "import pandas as pd\n",
    "import numpy as np\n",
    "\n",
    "\n",
    "# === Files and parameters === \n",
    "\n",
    "wdir = join(\"/\", \"media\", \"christof\", \"Data\", \"Github\", \"christofs\", \"BIB18\")\n",
    "bibdatafile = join(wdir, \"data\", \"BIB18_Zotero-RDF.rdf\") \n",
    "#bibdatafile = join(wdir, \"data\", \"BIB18_Zotero-RDF_TEST.rdf\") \n",
    "\n",
    "namespaces = {\n",
    "    \"foaf\" : \"http://xmlns.com/foaf/0.1/\",\n",
    "    \"bib\" : \"http://purl.org/net/biblio#\",\n",
    "    \"dc\" : \"http://purl.org/dc/elements/1.1/\",\n",
    "    \"z\" : \"http://www.zotero.org/namespaces/export#\",\n",
    "    \"rdf\" : \"http://www.w3.org/1999/02/22-rdf-syntax-ns#\"\n",
    "    }\n",
    "\n",
    "# === Load the dataset === \n",
    "\n",
    "def read_xml(bibdatafile): \n",
    "    bibdata = etree.parse(bibdatafile)\n",
    "    return bibdata\n",
    "bibdata = read_xml(bibdatafile)"
   ]
  },
  {
   "cell_type": "code",
   "execution_count": 5,
   "metadata": {},
   "outputs": [
    {
     "name": "stdout",
     "output_type": "stream",
     "text": [
      "\n",
      "Languages\n"
     ]
    },
    {
     "data": {
      "image/png": "[encoded data removed]",
      "text/plain": [
       "<Figure size 864x432 with 1 Axes>"
      ]
     },
     "metadata": {
      "needs_background": "light"
     },
     "output_type": "display_data"
    }
   ],
   "source": [
    "def get_languages(bibdata): \n",
    "    print(\"\\nLanguages\")\n",
    "\n",
    "    # Find all the instances of \"language\" Element and its content\n",
    "    xpath = \"//z:language/text()\"\n",
    "    languages = bibdata.xpath(xpath, namespaces=namespaces)\n",
    "    # Identify frequency of languages\n",
    "    languages_counts = Counter(languages)\n",
    "    languages_counts = dict(sorted(languages_counts.items(), key = lambda item: item[1], reverse=True)[:10])\n",
    "    \n",
    " \n",
    "    # Visualize using a simple bar chart \n",
    "    lc = pd.DataFrame.from_dict(languages_counts, orient=\"index\", columns=[\"count\"]).reset_index().rename({\"index\" : \"language\"}, axis=1)\n",
    "    plt.figure(figsize=(12,6))\n",
    "    pal = sns.color_palette(\"colorblind\", len(lc))\n",
    "    fig = sns.barplot(data=lc, x=\"language\", y=\"count\", palette=pal)\n",
    "    fig.set_xticklabels(fig.get_xticklabels(), rotation=30)\n",
    "    for i in fig.containers:\n",
    "        fig.bar_label(i,)\n",
    "    plt.tight_layout()\n",
    "    plt.savefig(join(wdir, \"figures\", \"languages_counts.png\"), dpi=300)\n",
    "    return languages, languages_counts\n",
    "  \n",
    "languages, languages_counts = get_languages(bibdata)\n",
    "\n"
   ]
  },
  {
   "cell_type": "code",
   "execution_count": 6,
   "metadata": {},
   "outputs": [
    {
     "name": "stdout",
     "output_type": "stream",
     "text": [
      "There are 64396 instances of language in the dataset.\n",
      "At the moment, only 8 different languages are considered for analysis.\n",
      "The most prevalent language is French, with 73.89% of all entries.\n"
     ]
    }
   ],
   "source": [
    "    \n",
    "# Provide some results as a text. \n",
    "print(\"There are \" + str(len(languages))  + \" instances of language in the dataset.\")\n",
    "print(\"At the moment, only \" + str(len(languages_counts)) + \" different languages are considered for analysis.\")\n",
    "languages_perc = {k: v / len(languages) for k, v in languages_counts.items()}\n",
    "print(\"The most prevalent language is \" + str(list(languages_perc.keys())[0]) + \", with \" + \"{:2.2%}\".format(list(languages_perc.values())[0]) + \" of all entries.\")\n",
    "\n",
    "\n"
   ]
  }
 ],
 "metadata": {
  "kernelspec": {
   "display_name": "Python 3",
   "language": "python",
   "name": "python3"
  },
  "language_info": {
   "codemirror_mode": {
    "name": "ipython",
    "version": 3
   },
   "file_extension": ".py",
   "mimetype": "text/x-python",
   "name": "python",
   "nbconvert_exporter": "python",
   "pygments_lexer": "ipython3",
   "version": "3.10.6"
  },
  "orig_nbformat": 4
 },
 "nbformat": 4,
 "nbformat_minor": 2
}
