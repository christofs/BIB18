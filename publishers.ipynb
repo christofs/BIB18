{
 "cells": [
  {
   "attachments": {},
   "cell_type": "markdown",
   "metadata": {},
   "source": [
    "# Publishers   "
   ]
  },
  {
   "attachments": {},
   "cell_type": "markdown",
   "metadata": {},
   "source": [
    "## Most frequently occurring publisher names\n",
    "\n",
    "There are 37781 mentions of publisher names in the dataset, in total, for 5705 different publisher names. \n",
    "\n",
    "The publisher names occurring most frequently in the dataset, irrespective of context or function, are the following, with the number of occurrence of their names: \n",
    "\n",
    "- Classiques Garnier: 2354\n",
    "- Honoré Champion: 1349\n",
    "- Presses universitaires de Rennes: 1306\n",
    "- Peter Lang: 706\n",
    "- L’Harmattan: 691\n",
    "- Voltaire Foundation: 682\n",
    "- Droz: 552\n",
    "- Presses universitaires de France: 540\n",
    "- Gallimard: 523\n",
    "- Cambridge University Press: 459\n",
    "\n"
   ]
  }
 ],
 "metadata": {
  "language_info": {
   "name": "python"
  },
  "orig_nbformat": 4
 },
 "nbformat": 4,
 "nbformat_minor": 2
}
