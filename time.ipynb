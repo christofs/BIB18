{
 "cells": [
  {
   "attachments": {},
   "cell_type": "markdown",
   "metadata": {},
   "source": [
    "# Time"
   ]
  },
  {
   "attachments": {},
   "cell_type": "markdown",
   "metadata": {},
   "source": [
    "## Distribution of publications per year \n",
    "\n",
    "Here, only data starting in 1986 is shown (the bibliography was launched in 1992)."
   ]
  },
  {
   "cell_type": "code",
   "execution_count": 5,
   "metadata": {},
   "outputs": [],
   "source": [
    "# === Imports === \n",
    "\n",
    "import re \n",
    "import seaborn as sns\n",
    "from matplotlib import pyplot as plt\n",
    "from os.path import join\n",
    "from os.path import realpath, dirname\n",
    "import os\n",
    "from lxml import etree\n",
    "from io import StringIO, BytesIO\n",
    "from collections import Counter\n",
    "import pandas as pd\n",
    "import numpy as np\n",
    "\n",
    "import warnings\n",
    "warnings.filterwarnings(\"ignore\")\n",
    "\n",
    "# === Files and parameters === \n",
    "\n",
    "bibdatafile = join(\"data\", \"BIB18_Zotero-RDF_2024-01-02.rdf\") \n",
    "#bibdatafile = join(\"data\", \"BIB18_Zotero-RDF_TEST.rdf\") \n",
    "\n",
    "namespaces = {\n",
    "    \"foaf\" : \"http://xmlns.com/foaf/0.1/\",\n",
    "    \"bib\" : \"http://purl.org/net/biblio#\",\n",
    "    \"dc\" : \"http://purl.org/dc/elements/1.1/\",\n",
    "    \"z\" : \"http://www.zotero.org/namespaces/export#\",\n",
    "    \"rdf\" : \"http://www.w3.org/1999/02/22-rdf-syntax-ns#\"\n",
    "    }\n",
    "\n",
    "# === Load the dataset === \n",
    "\n",
    "bibdata = etree.parse(bibdatafile)"
   ]
  },
  {
   "cell_type": "code",
   "execution_count": 9,
   "metadata": {},
   "outputs": [
    {
     "ename": "SyntaxError",
     "evalue": "invalid syntax (1947551830.py, line 50)",
     "output_type": "error",
     "traceback": [
      "\u001b[0;36m  Cell \u001b[0;32mIn[9], line 50\u001b[0;36m\u001b[0m\n\u001b[0;31m    1. Artefacts from the conversion process.\u001b[0m\n\u001b[0m       ^\u001b[0m\n\u001b[0;31mSyntaxError\u001b[0m\u001b[0;31m:\u001b[0m invalid syntax\n"
     ]
    }
   ],
   "source": [
    "def get_pubyears(bibdata): \n",
    "    # Setting things up\n",
    "    pubyears = []\n",
    "\n",
    "    # Find all the instances of publication dates\n",
    "    xpath = \"//dc:date/text()\"\n",
    "    pubyears = bibdata.xpath(xpath, namespaces=namespaces)\n",
    "\n",
    "    # Count the occurrences, find the 10 most frequently mentioned publication dates\n",
    "    pubyear_counts = Counter(pubyears)\n",
    "    pubyear_counts = dict(sorted(pubyear_counts.items(), reverse=False))\n",
    "\n",
    "    # Filter data to clean it\n",
    "    pubyear_counts = pd.DataFrame.from_dict(pubyear_counts, orient=\"index\").reset_index().rename(mapper={\"index\":\"year\", 0 : \"count\"}, axis=\"columns\")    #pubyear_counts = pubyear_counts[pubyear_counts[0] == 1991]\n",
    "    pubyear_counts = pubyear_counts[pubyear_counts[\"year\"].str.isnumeric()]\n",
    "    pubyear_counts.set_index(\"year\", inplace=True)\n",
    "    # Remove erroneous years (to be corrected in the data)\n",
    "    pubyear_counts.drop([\"0134\", \"0201\", \"0207\", \"22\", \"30\", \"42\", \"58\", \"76\", \"78\", \"20\"], inplace=True)\n",
    "    # Remove less relevant years (optional, of course)\n",
    "    pubyear_counts.drop([\"1815\", \"1834\", \"1891\", \"1932\", \"1945\", \"1957\", \"1961\", \"1969\", \"1973\", \"1974\", \"1975\", \"1978\", \"1979\", \"1981\", \"1982\", \"1983\", \"1984\"], inplace=True)\n",
    "    pubyear_counts.reset_index(inplace=True)\n",
    "    #print(pubyear_counts.head())\n",
    "\n",
    "    # Display some key figures\n",
    "    print(\"There are \" + str(len(pubyears)) + \" instances of publication years mentioned in the dataset.\")\n",
    "    print(\"There are \" + str(len(pubyear_counts)) + \" different years mentioned in the dataset.\")\n",
    "\n",
    "    return pubyear_counts\n",
    "\n",
    "\n",
    "def visualize_pubyears(pubyear_counts):\n",
    "    plt.figure(figsize=(12,8))\n",
    "    palette = sns.color_palette(\"tab20b\", len(pubyear_counts)-1)\n",
    "    fig = sns.barplot(\n",
    "        data = pubyear_counts, \n",
    "        x=\"year\", \n",
    "        y=\"count\",\n",
    "        hue = \"count\",\n",
    "        legend = False,\n",
    "        palette = palette,\n",
    "        )\n",
    "    fig.set(title=\"Number of bibliographic entries per year\")\n",
    "    fig.set_xticklabels(fig.get_xticklabels(), rotation=60)\n",
    "    plt.savefig(join(\"figures\", \"pubyear_counts.svg\"), dpi=300)\n",
    "\n",
    "\n",
    "pubyear_counts = get_pubyears(bibdata)\n",
    "visualize_pubyears(pubyear_counts)"
   ]
  }
 ],
 "metadata": {
  "kernelspec": {
   "display_name": "Python 3",
   "language": "python",
   "name": "python3"
  },
  "language_info": {
   "codemirror_mode": {
    "name": "ipython",
    "version": 3
   },
   "file_extension": ".py",
   "mimetype": "text/x-python",
   "name": "python",
   "nbconvert_exporter": "python",
   "pygments_lexer": "ipython3",
   "version": "3.10.12"
  },
  "orig_nbformat": 4
 },
 "nbformat": 4,
 "nbformat_minor": 2
}
