{
 "cells": [
  {
   "attachments": {},
   "cell_type": "markdown",
   "metadata": {},
   "source": [
    "# Time"
   ]
  },
  {
   "attachments": {},
   "cell_type": "markdown",
   "metadata": {},
   "source": [
    "## Distribution of publications per year \n",
    "\n",
    "The dataset contains 64169 publication years, with 87 different publication years recorded (some of them are errors). Here, only data starting in 1986 is shown (the bibliography was launched in 1992). \n",
    "\n",
    "![](/figures/pubyear_counts.png)\n"
   ]
  },
  {
   "cell_type": "code",
   "execution_count": 1,
   "metadata": {},
   "outputs": [],
   "source": [
    "# === Imports === \n",
    "\n",
    "import re \n",
    "import seaborn as sns\n",
    "from matplotlib import pyplot as plt\n",
    "from os.path import join\n",
    "from os.path import realpath, dirname\n",
    "import os\n",
    "from lxml import etree\n",
    "from io import StringIO, BytesIO\n",
    "from collections import Counter\n",
    "import pandas as pd\n",
    "import numpy as np\n",
    "\n",
    "\n",
    "# === Files and parameters === \n",
    "\n",
    "wdir = join(\"/\", \"media\", \"christof\", \"Data\", \"Github\", \"christofs\", \"BIB18\")\n",
    "bibdatafile = join(wdir, \"data\", \"BIB18_Zotero-RDF.rdf\") \n",
    "#bibdatafile = join(wdir, \"data\", \"BIB18_Zotero-RDF_TEST.rdf\") \n",
    "\n",
    "namespaces = {\n",
    "    \"foaf\" : \"http://xmlns.com/foaf/0.1/\",\n",
    "    \"bib\" : \"http://purl.org/net/biblio#\",\n",
    "    \"dc\" : \"http://purl.org/dc/elements/1.1/\",\n",
    "    \"z\" : \"http://www.zotero.org/namespaces/export#\",\n",
    "    \"rdf\" : \"http://www.w3.org/1999/02/22-rdf-syntax-ns#\"\n",
    "    }\n",
    "\n",
    "# === Load the dataset === \n",
    "\n",
    "def read_xml(bibdatafile): \n",
    "    bibdata = etree.parse(bibdatafile)\n",
    "    return bibdata\n",
    "bibdata = read_xml(bibdatafile)"
   ]
  },
  {
   "cell_type": "code",
   "execution_count": 5,
   "metadata": {},
   "outputs": [
    {
     "name": "stdout",
     "output_type": "stream",
     "text": [
      "There are 64169 instances of publication years mentioned in the dataset.\n",
      "There are 38 different years mentioned in the dataset.\n"
     ]
    },
    {
     "data": {
      "image/png": "[encoded data removed]",
      "text/plain": [
       "<Figure size 864x432 with 1 Axes>"
      ]
     },
     "metadata": {
      "needs_background": "light"
     },
     "output_type": "display_data"
    }
   ],
   "source": [
    "\n",
    "def get_pubyears(bibdata): \n",
    "    # Setting things up\n",
    "    pubyears = []\n",
    "\n",
    "    # Find all the instances of publication dates\n",
    "    xpath = \"//dc:date/text()\"\n",
    "    pubyears = bibdata.xpath(xpath, namespaces=namespaces)\n",
    "\n",
    "    # Count the occurrences, find the 10 most frequently mentioned publication dates\n",
    "    pubyear_counts = Counter(pubyears)\n",
    "    pubyear_counts = dict(sorted(pubyear_counts.items(), reverse=False))\n",
    "\n",
    "    # Filter data to clean it\n",
    "    pubyear_counts = pd.DataFrame.from_dict(pubyear_counts, orient=\"index\").reset_index().rename(mapper={\"index\":\"year\", 0 : \"count\"}, axis=\"columns\")    #pubyear_counts = pubyear_counts[pubyear_counts[0] == 1991]\n",
    "    pubyear_counts = pubyear_counts[pubyear_counts[\"year\"].str.isnumeric()]\n",
    "    pubyear_counts.set_index(\"year\", inplace=True)\n",
    "    # Remove erroneous years (to be corrected in the data)\n",
    "    pubyear_counts.drop([\"134\", \"207\", \"22\", \"30\", \"42\", \"58\", \"76\", \"78\", \"20\", \"201\"], inplace=True)\n",
    "    # Remove less relevant years (optional, of course)\n",
    "    pubyear_counts.drop([\"1815\", \"1834\", \"1891\", \"1932\", \"1945\", \"1957\", \"1961\", \"1969\", \"1973\", \"1974\", \"1975\", \"1978\", \"1979\", \"1981\", \"1982\", \"1983\", \"1984\"], inplace=True)\n",
    "    pubyear_counts.reset_index(inplace=True)\n",
    "    #print(pubyear_counts.head())\n",
    "\n",
    "    # Display some key figures\n",
    "    print(\"There are \" + str(len(pubyears)) + \" instances of publication years mentioned in the dataset.\")\n",
    "    print(\"There are \" + str(len(pubyear_counts)) + \" different years mentioned in the dataset.\")\n",
    "\n",
    "    return pubyear_counts\n",
    "\n",
    "\n",
    "def visualize_pubyears(pubyear_counts):\n",
    "    plt.figure(figsize=(12,6))\n",
    "    fig = sns.barplot(data = pubyear_counts, x=\"year\", y=\"count\")\n",
    "    fig.set_xticklabels(fig.get_xticklabels(), rotation=45)\n",
    "    plt.savefig(join(wdir, \"figures\", \"pubyear_counts.png\"))\n",
    "\n",
    "\n",
    "pubyear_counts = get_pubyears(bibdata)\n",
    "visualize_pubyears(pubyear_counts)"
   ]
  },
  {
   "attachments": {},
   "cell_type": "markdown",
   "metadata": {},
   "source": [
    "Here, only data starting in 1986 is shown (the bibliography was launched in 1992)."
   ]
  }
 ],
 "metadata": {
  "kernelspec": {
   "display_name": "Python 3",
   "language": "python",
   "name": "python3"
  },
  "language_info": {
   "codemirror_mode": {
    "name": "ipython",
    "version": 3
   },
   "file_extension": ".py",
   "mimetype": "text/x-python",
   "name": "python",
   "nbconvert_exporter": "python",
   "pygments_lexer": "ipython3",
   "version": "3.10.6"
  },
  "orig_nbformat": 4
 },
 "nbformat": 4,
 "nbformat_minor": 2
}
