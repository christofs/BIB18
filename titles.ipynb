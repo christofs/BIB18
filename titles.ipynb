{
  "cells": [
    {
      "cell_type": "raw",
      "id": "c1899f3a",
      "metadata": {},
      "source": [
        "---\n",
        "title: \"Titles\"\n",
        "---"
      ]
    },
    {
      "attachments": {},
      "cell_type": "markdown",
      "id": "63795888",
      "metadata": {},
      "source": [
        "## Introduction\n",
        "\n",
        "The titles included in the bibliography tell us a few things, for instance the language a publication is written in or the main themes (keywords, authors) that is the subject of a publication. Let's find out about them. (The code below initializes the analyis.)"
      ]
    },
    {
      "cell_type": "code",
      "execution_count": 5,
      "id": "0a47ebaa",
      "metadata": {},
      "outputs": [],
      "source": [
        "# === Imports === \n",
        "\n",
        "# Basics\n",
        "import re \n",
        "from os.path import realpath, dirname, join\n",
        "import os\n",
        "from lxml import etree\n",
        "from collections import Counter\n",
        "import pandas as pd\n",
        "\n",
        "# Visualization\n",
        "import plotly.io as pio\n",
        "pio.renderers.default = \"plotly_mimetype+notebook_connected\"\n",
        "import plotly.express as px\n",
        "import seaborn as sns\n",
        "from matplotlib import pyplot as plt\n",
        "\n",
        "\n",
        "# === Files and parameters === \n",
        "\n",
        "wdir  = join(\"/\", \"media\", \"christof\", \"Data\", \"Github\", \"christofs\", \"bib18\")\n",
        "#Bib18_file = join(wdir, \"data\", \"Bib18_test.rdf\") \n",
        "Bib18_file = join(wdir, \"data\", \"Bib18.rdf\") \n",
        "\n",
        "namespaces = {\n",
        "    \"foaf\" : \"http://xmlns.com/foaf/0.1/\",\n",
        "    \"bib\" : \"http://purl.org/net/biblio#\",\n",
        "    \"dc\" : \"http://purl.org/dc/elements/1.1/\",\n",
        "    \"z\" : \"http://www.zotero.org/namespaces/export#\",\n",
        "    \"rdf\" : \"http://www.w3.org/1999/02/22-rdf-syntax-ns#\"\n",
        "    }\n"
      ]
    },
    {
      "attachments": {},
      "cell_type": "markdown",
      "id": "e147f827",
      "metadata": {},
      "source": [
        "## Extracting the titles\n",
        "\n",
        "The first step is to identify the titles in the dataset. Ideally, we would exclude titles of journals, for instance, but this is not done here yet. "
      ]
    },
    {
      "cell_type": "code",
      "execution_count": 2,
      "id": "edc54f99",
      "metadata": {},
      "outputs": [
        {
          "name": "stdout",
          "output_type": "stream",
          "text": [
            "Number of titles found: 110174.\n"
          ]
        }
      ],
      "source": [
        "def read_json(Bib18_file): \n",
        "    \"\"\"\n",
        "    Open and read the RDF version of the Bib18 dataset.\n",
        "    Returns: the XML document as an etree object. \n",
        "    \"\"\"\n",
        "    Bib18 = etree.parse(Bib18_file)\n",
        "    return Bib18\n",
        "\n",
        "\n",
        "def get_titles(Bib18): \n",
        "    \"\"\"\n",
        "    Extract all the primary titles from the dataset. \n",
        "    Primary titles are all titles except journal names. \n",
        "    \"\"\"\n",
        "    # Find all primary \"title\" elements in the dataset \n",
        "    # TODO: find the XPath to exclude journal titles. \n",
        "    xpath = \"//dc:title/text()\"\n",
        "    titles = Bib18.xpath(xpath, namespaces=namespaces)\n",
        "    print(\"Number of titles found: \" + str(len(titles)) + \".\")\n",
        "    return titles\n",
        "\n",
        "# === Main === \n",
        "\n",
        "def main(): \n",
        "    global Bib18   \n",
        "    Bib18 = read_json(Bib18_file)\n",
        "    global titles \n",
        "    titles = get_titles(Bib18)\n",
        "main()\n"
      ]
    },
    {
      "attachments": {},
      "cell_type": "markdown",
      "id": "dfbd8cce",
      "metadata": {},
      "source": [
        "## Distribution of languages, based on the titles\n",
        "\n",
        "We don't have abstracts or full texts in the dataset, but on the basis of the titles alone, the (most likely) language of the publication can be determined. (Note that an algorithmic process, based on the library py-lingua and using only the sometimes very short titles, has been used to create this data, so errors are to be expected. With the progress of corrections in the dataset, this will improve over time.)\n",
        "\n",
        "The following table shows the number of times several different languages occur in the dataset.\n"
      ]
    },
    {
      "cell_type": "code",
      "execution_count": 3,
      "id": "6114ea22",
      "metadata": {},
      "outputs": [
        {
          "name": "stdout",
          "output_type": "stream",
          "text": [
            "Number of language indications found: 64396.\n"
          ]
        },
        {
          "data": {
            "text/html": [
              "<style type=\"text/css\">\n",
              "</style>\n",
              "<table id=\"T_ab829\">\n",
              "  <thead>\n",
              "    <tr>\n",
              "      <th id=\"T_ab829_level0_col0\" class=\"col_heading level0 col0\" >language</th>\n",
              "      <th id=\"T_ab829_level0_col1\" class=\"col_heading level0 col1\" >count</th>\n",
              "    </tr>\n",
              "  </thead>\n",
              "  <tbody>\n",
              "    <tr>\n",
              "      <td id=\"T_ab829_row0_col0\" class=\"data row0 col0\" >French</td>\n",
              "      <td id=\"T_ab829_row0_col1\" class=\"data row0 col1\" >47579</td>\n",
              "    </tr>\n",
              "    <tr>\n",
              "      <td id=\"T_ab829_row1_col0\" class=\"data row1 col0\" >English</td>\n",
              "      <td id=\"T_ab829_row1_col1\" class=\"data row1 col1\" >13348</td>\n",
              "    </tr>\n",
              "    <tr>\n",
              "      <td id=\"T_ab829_row2_col0\" class=\"data row2 col0\" >Italian</td>\n",
              "      <td id=\"T_ab829_row2_col1\" class=\"data row2 col1\" >958</td>\n",
              "    </tr>\n",
              "    <tr>\n",
              "      <td id=\"T_ab829_row3_col0\" class=\"data row3 col0\" >German</td>\n",
              "      <td id=\"T_ab829_row3_col1\" class=\"data row3 col1\" >915</td>\n",
              "    </tr>\n",
              "    <tr>\n",
              "      <td id=\"T_ab829_row4_col0\" class=\"data row4 col0\" >Spanish</td>\n",
              "      <td id=\"T_ab829_row4_col1\" class=\"data row4 col1\" >866</td>\n",
              "    </tr>\n",
              "    <tr>\n",
              "      <td id=\"T_ab829_row5_col0\" class=\"data row5 col0\" >Dutch</td>\n",
              "      <td id=\"T_ab829_row5_col1\" class=\"data row5 col1\" >282</td>\n",
              "    </tr>\n",
              "    <tr>\n",
              "      <td id=\"T_ab829_row6_col0\" class=\"data row6 col0\" >Swedish</td>\n",
              "      <td id=\"T_ab829_row6_col1\" class=\"data row6 col1\" >231</td>\n",
              "    </tr>\n",
              "    <tr>\n",
              "      <td id=\"T_ab829_row7_col0\" class=\"data row7 col0\" >Portuguese</td>\n",
              "      <td id=\"T_ab829_row7_col1\" class=\"data row7 col1\" >217</td>\n",
              "    </tr>\n",
              "  </tbody>\n",
              "</table>\n"
            ],
            "text/plain": [
              "<pandas.io.formats.style.Styler at 0x7f02d81ef4c0>"
            ]
          },
          "metadata": {},
          "output_type": "display_data"
        }
      ],
      "source": [
        "def get_lang_counts(Bib18): \n",
        "    \"\"\"\n",
        "    Extract all the language elements from the dataset. \n",
        "    Then, establish the counts of the languages. \n",
        "    \"\"\"\n",
        "    # Find all \"language\" elements in the dataset. \n",
        "    xpath = \"//z:language/text()\"\n",
        "    langs = Bib18.xpath(xpath, namespaces=namespaces)\n",
        "    print(\"Number of language indications found: \" + str(len(langs)) + \".\")\n",
        "\n",
        "    # Establish the counts of each language\n",
        "    lang_counts = dict(Counter(langs))\n",
        "    lang_counts = pd.DataFrame.from_dict(lang_counts, orient=\"index\").reset_index().rename(mapper={\"index\":\"language\", 0 : \"count\"}, axis=\"columns\")\n",
        "    lang_counts.sort_values(by=\"count\", ascending=False, inplace=True)\n",
        "\n",
        "    # Display the table nicely\n",
        "    display(lang_counts.head(10).style.hide(axis=\"index\"))\n",
        "\n",
        "    # Save the data to a CSV file (as runtime is long)\n",
        "    with open(join(wdir, \"data\", \"lang_counts.csv\"), \"w\", encoding=\"utf8\") as outfile: \n",
        "        lang_counts.to_csv(outfile)\n",
        "\n",
        "    # Return data\n",
        "    return lang_counts\n",
        "\n",
        "global lang_counts\n",
        "lang_counts = get_lang_counts(Bib18)"
      ]
    },
    {
      "attachments": {},
      "cell_type": "markdown",
      "id": "7d995a0f",
      "metadata": {},
      "source": [
        "Let's visualize this data as well. "
      ]
    },
    {
      "cell_type": "code",
      "execution_count": 9,
      "id": "092e852c",
      "metadata": {},
      "outputs": [
        {
          "data": {
            "image/png": "[encoded data removed]",
            "text/plain": [
              "<Figure size 864x432 with 1 Axes>"
            ]
          },
          "metadata": {
            "needs_background": "light"
          },
          "output_type": "display_data"
        }
      ],
      "source": [
        "def visualize_tlc(lang_counts): \n",
        "    \"\"\"\n",
        "    Create a visualization (barplot) of the languages counts. \n",
        "    \"\"\"\n",
        "    #fig = px.bar(\n",
        "    #    lang_counts.head(10), \n",
        "    #    x=\"language\", \n",
        "    #    y=\"count\", \n",
        "    #    title=\"Distribution of languages in the titles\",\n",
        "    #    text_auto=True)\n",
        "    #fig.show(renderer=\"notebook\")\n",
        "\n",
        "    plt.figure(figsize=(12,6))\n",
        "    fig = sns.barplot(\n",
        "        data=lang_counts.head(10), \n",
        "        x=\"language\", \n",
        "        y=\"count\")\n",
        "    fig.set_xticklabels(fig.get_xticklabels(), rotation=30)\n",
        "    plt.savefig(join(wdir, \"figures\", \"language_counts.svg\"))\n",
        "    plt.show()\n",
        "\n",
        "\n",
        "\n",
        "visualize_tlc(lang_counts)\n"
      ]
    },
    {
      "attachments": {},
      "cell_type": "markdown",
      "id": "a8e51959",
      "metadata": {},
      "source": [
        "The dominance of French is very clear, followed by English. As noted above, this analysis will be strongly improved with manual corrections to the language information.  "
      ]
    }
  ],
  "metadata": {
    "kernelspec": {
      "display_name": "Python 3 (ipykernel)",
      "language": "python",
      "name": "python3"
    },
    "language_info": {
      "codemirror_mode": {
        "name": "ipython",
        "version": 3
      },
      "file_extension": ".py",
      "mimetype": "text/x-python",
      "name": "python",
      "nbconvert_exporter": "python",
      "pygments_lexer": "ipython3",
      "version": "3.10.6"
    }
  },
  "nbformat": 4,
  "nbformat_minor": 5
}
