{
 "cells": [
  {
   "attachments": {},
   "cell_type": "markdown",
   "metadata": {},
   "source": [
    "# Publication types"
   ]
  },
  {
   "attachments": {},
   "cell_type": "markdown",
   "metadata": {},
   "source": [
    "## Distribution of publication types in the dataset\n",
    "\n",
    "There are 64397 instances of publication type (each entry has one), with just 6 different types of publication types. This number results from the original bibliography's data model, but the labels used below are Zotero's labels. The exception to this rule is that the distinction between monographs and edited volumes is lost in Zotero, which considers both to be books.  \n",
    "\n",
    "- journalArticle: 26615\n",
    "- book (monographs and edited volumes): 23083\n",
    "- bookSection: 13368\n",
    "- thesis: 1296\n",
    "- dataset: 34\n",
    "- webpage: 1\n",
    "\n",
    "(Visualize as a bubble chart?)"
   ]
  }
 ],
 "metadata": {
  "language_info": {
   "name": "python"
  },
  "orig_nbformat": 4
 },
 "nbformat": 4,
 "nbformat_minor": 2
}
