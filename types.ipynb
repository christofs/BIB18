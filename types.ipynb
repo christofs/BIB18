{
 "cells": [
  {
   "attachments": {},
   "cell_type": "markdown",
   "metadata": {},
   "source": [
    "# Types"
   ]
  },
  {
   "attachments": {},
   "cell_type": "markdown",
   "metadata": {},
   "source": [
    "## Distribution of publication types in the dataset\n",
    "\n",
    "There are 64397 instances of publication type (each entry has one), with just 6 different types of publication types. This number results from the original bibliography's data model, but the labels used below are Zotero's labels. The exception to this rule is that the distinction between monographs and edited volumes is lost in Zotero, which considers both to be books.  \n",
    "\n",
    "- journalArticle: 26615\n",
    "- book (monographs and edited volumes): 23083\n",
    "- bookSection: 13368\n",
    "- thesis: 1296\n",
    "- dataset: 34\n",
    "- webpage: 1\n",
    "\n",
    "(Visualize as a bubble chart?)"
   ]
  },
  {
   "cell_type": "code",
   "execution_count": 1,
   "metadata": {},
   "outputs": [],
   "source": [
    "# === Imports === \n",
    "\n",
    "import re \n",
    "import seaborn as sns\n",
    "from matplotlib import pyplot as plt\n",
    "from os.path import join\n",
    "from os.path import realpath, dirname\n",
    "import os\n",
    "from lxml import etree\n",
    "from io import StringIO, BytesIO\n",
    "from collections import Counter\n",
    "import pandas as pd\n",
    "import numpy as np\n",
    "\n",
    "\n",
    "# === Files and parameters === \n",
    "\n",
    "wdir = join(\"/\", \"media\", \"christof\", \"Data\", \"Github\", \"christofs\", \"BIB18\")\n",
    "bibdatafile = join(wdir, \"data\", \"BIB18_Zotero-RDF.rdf\") \n",
    "#bibdatafile = join(wdir, \"data\", \"BIB18_Zotero-RDF_TEST.rdf\") \n",
    "\n",
    "namespaces = {\n",
    "    \"foaf\" : \"http://xmlns.com/foaf/0.1/\",\n",
    "    \"bib\" : \"http://purl.org/net/biblio#\",\n",
    "    \"dc\" : \"http://purl.org/dc/elements/1.1/\",\n",
    "    \"z\" : \"http://www.zotero.org/namespaces/export#\",\n",
    "    \"rdf\" : \"http://www.w3.org/1999/02/22-rdf-syntax-ns#\"\n",
    "    }\n",
    "\n",
    "# === Load the dataset === \n",
    "\n",
    "def read_xml(bibdatafile): \n",
    "    bibdata = etree.parse(bibdatafile)\n",
    "    return bibdata\n",
    "bibdata = read_xml(bibdatafile)"
   ]
  },
  {
   "cell_type": "code",
   "execution_count": 12,
   "metadata": {},
   "outputs": [
    {
     "name": "stdout",
     "output_type": "stream",
     "text": [
      "There are 64397 instances of publication type in the dataset.\n",
      "There are 6 different publication types in the dataset.\n"
     ]
    }
   ],
   "source": [
    "def get_pubtypes(bibdata): \n",
    "    # Find all the instances of publication types\n",
    "    pubtypes = []\n",
    "    xpath = \"//z:itemType/text()\"\n",
    "    pubtypes = bibdata.xpath(xpath, namespaces=namespaces)\n",
    "    print(\"There are \" + str(len(pubtypes)) +  \" instances of publication type in the dataset.\")\n",
    "    return pubtypes\n",
    "\n",
    "\n",
    "def most_frequent_pubtypes(pubtypes): \n",
    "    # Count the occurrences, find the 10 most frequently mentioned persons\n",
    "    pubtypes_counts = Counter(pubtypes)\n",
    "    print(\"There are \" + str(len(pubtypes_counts)) + \" different publication types in the dataset.\")\n",
    "    pubtypes_counts = dict(sorted(pubtypes_counts.items(), key = lambda item: item[1], reverse=True)[:10])\n",
    "    columns = [\"counts\"]\n",
    "    pubtypes_counts = pd.DataFrame.from_dict(\n",
    "        pubtypes_counts, \n",
    "        orient=\"index\", \n",
    "        columns=[\"count\"]).reset_index().rename({\"index\" : \"types\"}, \n",
    "        axis=1\n",
    "        )\n",
    "    return pubtypes_counts\n",
    "\n",
    "\n",
    "global pubtypes_counts\n",
    "pubtypes = get_pubtypes(bibdata)\n",
    "pubtypes_counts = most_frequent_pubtypes(pubtypes)"
   ]
  },
  {
   "attachments": {},
   "cell_type": "markdown",
   "metadata": {},
   "source": [
    "## Visualization"
   ]
  },
  {
   "cell_type": "code",
   "execution_count": 17,
   "metadata": {},
   "outputs": [
    {
     "data": {
      "image/png": "[encoded data removed]",
      "text/plain": [
       "<Figure size 864x432 with 1 Axes>"
      ]
     },
     "metadata": {
      "needs_background": "light"
     },
     "output_type": "display_data"
    }
   ],
   "source": [
    "def visualize_pubtypes_counts(pubtypes_counts): \n",
    "    #print(pubtypes_counts)\n",
    "    plt.figure(figsize=(12,6))\n",
    "    pal = sns.color_palette(\"colorblind\", len(pubtypes_counts))\n",
    "    fig = sns.barplot(\n",
    "        data=pubtypes_counts, \n",
    "        y=\"types\", \n",
    "        x=\"count\", \n",
    "        orient='h' \n",
    "        )\n",
    "    for i in fig.containers:\n",
    "        fig.bar_label(i,)\n",
    "    plt.tight_layout()\n",
    "    plt.savefig(\n",
    "        join(wdir, \"figures\", \"pubtypes_counts.png\"),\n",
    "        dpi=300\n",
    "        )\n",
    "    \n",
    "visualize_pubtypes_counts(pubtypes_counts)"
   ]
  },
  {
   "attachments": {},
   "cell_type": "markdown",
   "metadata": {},
   "source": [
    "Note that, unfortunately, Zotero does not distinguish between the item types monograph and edited volume, both being treated as books. (The rule-based disambiguation of these item types, based on the presence of authors and/or editors, is future work.)"
   ]
  }
 ],
 "metadata": {
  "kernelspec": {
   "display_name": "Python 3",
   "language": "python",
   "name": "python3"
  },
  "language_info": {
   "codemirror_mode": {
    "name": "ipython",
    "version": 3
   },
   "file_extension": ".py",
   "mimetype": "text/x-python",
   "name": "python",
   "nbconvert_exporter": "python",
   "pygments_lexer": "ipython3",
   "version": "3.10.6"
  },
  "orig_nbformat": 4
 },
 "nbformat": 4,
 "nbformat_minor": 2
}
